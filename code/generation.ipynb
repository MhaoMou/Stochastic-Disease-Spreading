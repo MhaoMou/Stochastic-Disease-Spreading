{
 "cells": [
  {
   "cell_type": "code",
   "execution_count": 31,
   "metadata": {},
   "outputs": [],
   "source": [
    "import numpy as np\n",
    "import itertools\n",
    "\n",
    "\n",
    "##################################################################\n",
    "np.random.seed(1)   #TODO: set the random seed\n",
    "class Logic_Model_Generator:\n",
    "    '''\n",
    "    We have\n",
    "        1. 3 predicates: A(t), I(t), R(t)\n",
    "        2. 3 rules\n",
    "    '''\n",
    "\n",
    "\n",
    "    # for example, consider three rules:\n",
    "    # A and B and Equal(A,B), and Before(A, D), then D;\n",
    "    # C and Before(C,Not D), then Not D\n",
    "    # D Then E, and Equal(D, E)\n",
    "    # note that define the temporal predicates as compact as possible\n",
    "\n",
    "    def __init__(self):\n",
    "\n",
    "        ### the following parameters are used to manually define the logic rules\n",
    "        self.num_predicate = 3                  # num_predicate is same as num_node\n",
    "        self.num_formula = 3                    # num of prespecified logic rules\n",
    "        self.BEFORE = 'BEFORE'\n",
    "        self.EQUAL = 'EQUAL'\n",
    "        self.AFTER = 'AFTER'\n",
    "        self.Time_tolerance = 0.3               \n",
    "        self.body_predicate_set = []                        # the index set of all body predicates\n",
    "        self.mental_predicate_set = []\n",
    "        self.action_predicate_set = [0, 1, 2]\n",
    "        self.head_predicate_set = [0, 1, 2]     # the index set of all head predicates\n",
    "        self.decay_rate = 1                                 # decay kernel\n",
    "\n",
    "        ### the following parameters are used to generate synthetic data\n",
    "        ### for the learning part, the following is used to claim variables\n",
    "        ### self.model_parameter = {0:{},1:{},...,6:{}}\n",
    "        self.model_parameter = {}\n",
    "\n",
    "\n",
    "        head_predicate_idx = 0\n",
    "        self.model_parameter[head_predicate_idx] = {}\n",
    "        self.model_parameter[head_predicate_idx]['base'] = -0.7\n",
    "\n",
    "        formula_idx = 0\n",
    "        self.model_parameter[head_predicate_idx][formula_idx] = {}\n",
    "        self.model_parameter[head_predicate_idx][formula_idx]['weight'] = 1.0\n",
    "\n",
    "\n",
    "        head_predicate_idx = 1\n",
    "        self.model_parameter[head_predicate_idx] = {}\n",
    "        self.model_parameter[head_predicate_idx]['base'] = -0.3\n",
    "\n",
    "        formula_idx = 0\n",
    "        self.model_parameter[head_predicate_idx][formula_idx] = {}\n",
    "        self.model_parameter[head_predicate_idx][formula_idx]['weight'] = 1.0\n",
    "\n",
    "\n",
    "        head_predicate_idx = 2\n",
    "        self.model_parameter[head_predicate_idx] = {}\n",
    "        self.model_parameter[head_predicate_idx]['base'] = -0.4\n",
    "\n",
    "        formula_idx = 0\n",
    "        self.model_parameter[head_predicate_idx][formula_idx] = {}\n",
    "        self.model_parameter[head_predicate_idx][formula_idx]['weight'] = 1.0\n",
    "\n",
    "        \n",
    "        #NOTE: set the content of logic rules\n",
    "        self.logic_template = self.logic_rule()\n",
    "\n",
    "    def logic_rule(self):\n",
    "        # encode rule information\n",
    "        '''\n",
    "        This function encodes the content of logic rules\n",
    "        logic_template = {0:{},1:{},2:{}}\n",
    "        '''\n",
    "        logic_template = {}\n",
    "\n",
    "\n",
    "        head_predicate_idx = 0\n",
    "        logic_template[head_predicate_idx] = {} # here 0 is the index of the head predicate; we could have multiple head predicates\n",
    "\n",
    "        #NOTE: rule content: (\\neg i \\to a) and (before(neg i, a))\n",
    "        formula_idx = 0\n",
    "        logic_template[head_predicate_idx][formula_idx] = {}\n",
    "        logic_template[head_predicate_idx][formula_idx]['body_predicate_idx'] = [1]\n",
    "        logic_template[head_predicate_idx][formula_idx]['body_predicate_sign'] = [-1]  # use 1 to indicate True; use -1 to indicate False\n",
    "        logic_template[head_predicate_idx][formula_idx]['head_predicate_sign'] = [0]\n",
    "        logic_template[head_predicate_idx][formula_idx]['temporal_relation_idx'] = [[1, 0]]\n",
    "        logic_template[head_predicate_idx][formula_idx]['temporal_relation_type'] = [self.BEFORE]\n",
    "\n",
    "\n",
    "        head_predicate_idx = 1\n",
    "        logic_template[head_predicate_idx] = {}  # here 1 is the index of the head predicate; we could have multiple head predicates\n",
    "\n",
    "        #NOTE: rule content: (i and \\neg r \\to i') and (before(i,i') and before(\\neg r,i'))\n",
    "        formula_idx = 0\n",
    "        logic_template[head_predicate_idx][formula_idx] = {}\n",
    "        logic_template[head_predicate_idx][formula_idx]['body_predicate_idx'] = [1, 2]\n",
    "        logic_template[head_predicate_idx][formula_idx]['body_predicate_sign'] = [1, -1]\n",
    "        logic_template[head_predicate_idx][formula_idx]['head_predicate_sign'] = [1]\n",
    "        logic_template[head_predicate_idx][formula_idx]['temporal_relation_idx'] = [[1, 1], [2, 1]]\n",
    "        logic_template[head_predicate_idx][formula_idx]['temporal_relation_type'] = [self.BEFORE, self.BEFORE]\n",
    "\n",
    "\n",
    "        head_predicate_idx = 2\n",
    "        logic_template[head_predicate_idx] = {}  # here 2 is the index of the head predicate; we could have multiple head predicates\n",
    "\n",
    "        #NOTE: rule content: (a or i \\to r) and (before(a,r) and before(i,r))\n",
    "        formula_idx = 0\n",
    "        logic_template[head_predicate_idx][formula_idx] = {}\n",
    "        logic_template[head_predicate_idx][formula_idx]['body_predicate_idx'] = [0, 1]\n",
    "        logic_template[head_predicate_idx][formula_idx]['body_predicate_sign'] = [1, 1]\n",
    "        logic_template[head_predicate_idx][formula_idx]['head_predicate_sign'] = [1]\n",
    "        logic_template[head_predicate_idx][formula_idx]['temporal_relation_idx'] = [[0, 2], [1, 2]]\n",
    "        logic_template[head_predicate_idx][formula_idx]['temporal_relation_type'] = [self.BEFORE, self.BEFORE]\n",
    "\n",
    "\n",
    "        return logic_template\n",
    "\n",
    "\n",
    "    def intensity(self, cur_time, head_predicate_idx, history):\n",
    "        feature_formula = []\n",
    "        weight_formula = []\n",
    "        effect_formula = []\n",
    "        #TODO: Check if the head_prediate is a mental predicate\n",
    "        if head_predicate_idx in self.mental_predicate_set: flag = 0\n",
    "        else: flag = 1  #NOTE: action\n",
    "\n",
    "        for formula_idx in list(self.logic_template[head_predicate_idx].keys()): # range all the formula for the chosen head_predicate\n",
    "            weight_formula.append(self.model_parameter[head_predicate_idx][formula_idx]['weight'])\n",
    "            feature_formula.append(self.get_feature(cur_time=cur_time, head_predicate_idx=head_predicate_idx,\n",
    "                                                    history=history, template=self.logic_template[head_predicate_idx][formula_idx], flag=flag))\n",
    "            effect_formula.append(self.get_formula_effect(cur_time=cur_time, head_predicate_idx=head_predicate_idx,\n",
    "                                                       history=history, template=self.logic_template[head_predicate_idx][formula_idx]))\n",
    "        intensity = np.exp(np.array(weight_formula))/ np.sum( np.exp(np.array(weight_formula)), axis=0) * np.array(feature_formula) * np.array(effect_formula)\n",
    "\n",
    "        intensity = self.model_parameter[head_predicate_idx]['base'] + np.sum(intensity)\n",
    "        intensity = np.exp(intensity)\n",
    "        return intensity\n",
    "\n",
    "    def get_feature(self, cur_time, head_predicate_idx, history, template, flag:int):\n",
    "        #NOTE: flag: 0 or 1, denotes the head_predicate_idx is a mental or an action\n",
    "        #NOTE: 0 for mental and 1 for action\n",
    "        #NOTE: since for mental, we need to go through all the history information\n",
    "        #NOTE: while for action, we only care about the current time information\n",
    "        transition_time_dic = {}\n",
    "        feature = 0\n",
    "        for idx, body_predicate_idx in enumerate(template['body_predicate_idx']):\n",
    "            transition_time = np.array(history[body_predicate_idx]['time'])\n",
    "            transition_state = np.array(history[body_predicate_idx]['state'])\n",
    "            mask = (transition_time <= cur_time) * (transition_state == template['body_predicate_sign'][idx]) # find corresponding history\n",
    "            transition_time_dic[body_predicate_idx] = transition_time[mask]\n",
    "        transition_time_dic[head_predicate_idx] = [cur_time]\n",
    "        ### get weights\n",
    "        # compute features whenever any item of the transition_item_dic is nonempty\n",
    "        history_transition_len = [len(i) for i in transition_time_dic.values()]\n",
    "        if min(history_transition_len) > 0:\n",
    "            # need to compute feature using logic rules\n",
    "            time_combination = np.array(list(itertools.product(*transition_time_dic.values()))) # get all possible time combinations\n",
    "            time_combination_dic = {}\n",
    "            for i, idx in enumerate(list(transition_time_dic.keys())):\n",
    "                #TODO: this is where we distinguish mental and action\n",
    "                time_combination_dic[idx] = time_combination[:, i] if flag == 0 else time_combination[-1, i]\n",
    "            temporal_kernel = np.ones(len(time_combination))\n",
    "            for idx, temporal_relation_idx in enumerate(template['temporal_relation_idx']):\n",
    "                time_difference = time_combination_dic[temporal_relation_idx[0]] - time_combination_dic[temporal_relation_idx[1]]\n",
    "                if template['temporal_relation_type'][idx] == 'BEFORE':\n",
    "                    temporal_kernel *= (time_difference < - self.Time_tolerance) * np.exp(-self.decay_rate * (cur_time - time_combination_dic[temporal_relation_idx[0]]))\n",
    "                if template['temporal_relation_type'][idx] == 'EQUAL':\n",
    "                    temporal_kernel *= (abs(time_difference) <= self.Time_tolerance) * np.exp(-self.decay_rate *(cur_time - time_combination_dic[temporal_relation_idx[0]]))\n",
    "                if template['temporal_relation_type'][idx] == 'AFTER':\n",
    "                    temporal_kernel *= (time_difference > self.Time_tolerance) * np.exp(-self.decay_rate * (cur_time - time_combination_dic[temporal_relation_idx[1]]))\n",
    "            feature = np.sum(temporal_kernel)\n",
    "        return feature\n",
    "\n",
    "    def get_formula_effect(self, cur_time, head_predicate_idx, history, template):\n",
    "        ## Note this part is very important!! For generator, this should be np.sum(cur_time > head_transition_time) - 1\n",
    "        ## Since at the transition times, choose the intensity function right before the transition time\n",
    "    \n",
    "        return 1\n",
    "\n",
    "\n",
    "    def generate_data(self, num_sample:int, time_horizon:int):\n",
    "        data={}\n",
    "        intensity = {}\n",
    "\n",
    "        # initialize intensity function for body predicates\n",
    "        '''\n",
    "        for predicate_idx in [0, 1]:\n",
    "            intensity[predicate_idx] = 0.5 # add some base terms, spontaneous triggering, can change at will\n",
    "\n",
    "        for predicate_idx in [2]:\n",
    "            intensity[predicate_idx] = 1 # can change at will\n",
    "        '''\n",
    "\n",
    "        #NOTE: data = {0:{},1:{},....,num_sample:{}}\n",
    "        for sample_ID in np.arange(0, num_sample, 1):\n",
    "            data[sample_ID] = {}                        # each data[sample_ID] stores one realization of the point process\n",
    "            # initialize data\n",
    "            #NOTE: data[sample_ID] = {0:{'time':[], 'state':[]}, 1:{'time':[], 'state':[]},..., num_predicate:{'time':[], 'state':[]}}\n",
    "            for predicate_idx in np.arange(0, self.num_predicate, 1):\n",
    "                data[sample_ID][predicate_idx] = {}\n",
    "                data[sample_ID][predicate_idx]['time'] = [0]\n",
    "                data[sample_ID][predicate_idx]['state'] = [0]\n",
    "\n",
    "            #TODO: in my project, all the predicates are head predicates. All of them need to be generated by the accept-reject method\n",
    "            '''\n",
    "            # generate data (body predicates)\n",
    "            for body_predicate_idx in self.body_predicate_set:  # body predicate events happens spontaneously according to its own intensity\n",
    "                t = 0   # sample eacn body predicate separately\n",
    "                while t < time_horizon:\n",
    "                    time_to_event = np.random.exponential(scale=1.0 / intensity[body_predicate_idx])    # draw the next event time: according to the exp dist\n",
    "                    next_event_time = data[sample_ID][body_predicate_idx]['time'][-1] + time_to_event\n",
    "                    if next_event_time > time_horizon: break\n",
    "                    data[sample_ID][body_predicate_idx]['time'].append(next_event_time)\n",
    "                    cur_state = 1 - data[sample_ID][body_predicate_idx]['state'][-1]    # state transition\n",
    "                    data[sample_\n",
    "                    ID][body_predicate_idx]['state'].append(cur_state)      # append the new state\n",
    "                    t = next_event_time                                                 # update cur_time\n",
    "            '''\n",
    "\n",
    "\n",
    "\n",
    "            for head_predicate_idx in self.head_predicate_set:\n",
    "                '''\n",
    "                data[sample_ID][head_predicate_idx] = {}\n",
    "                data[sample_ID][head_predicate_idx]['time'] = [0]\n",
    "                data[sample_ID][head_predicate_idx]['state'] = [0]\n",
    "                '''\n",
    "                #TODO\n",
    "                if head_predicate_idx in self.mental_predicate_set: flag = 0\n",
    "                else: flag = 1\n",
    "\n",
    "                # obtain the maximal intensity\n",
    "                #NOTE: the intensity for each head predicate is time-dependent\n",
    "                intensity_potential = []\n",
    "                for t in np.arange(0, time_horizon, 0.1):\n",
    "                    intensity_potential.append(self.intensity(t, head_predicate_idx, data[sample_ID]))\n",
    "                intensity_max = max(intensity_potential)\n",
    "                #print('the maximum intensity is {}'.format(intensity_max))  # print the envelop\n",
    "                # generate events via accept and reject\n",
    "                t = 0   # cur_time\n",
    "                while t < time_horizon:\n",
    "                    time_to_event = np.random.exponential(scale=1.0/intensity_max)  # sample the interarrival time\n",
    "                    t = t + time_to_event\n",
    "                    if t > time_horizon: break  #NOTE: the next event time exceeds the time horizon\n",
    "                    ratio = min(self.intensity(t, head_predicate_idx, data[sample_ID]) / intensity_max, 1)\n",
    "                    #TODO\n",
    "                    #print('the result you want >>> ', self.intensity(t, head_predicate_idx, data[sample_ID]))\n",
    "\n",
    "                    flag = np.random.binomial(1, ratio)     # if flag = 1, accept, if flag = 0, regenerate\n",
    "                    if flag == 1: # accept\n",
    "                        data[sample_ID][head_predicate_idx]['time'].append(t)               # append the new transition time\n",
    "                        cur_state = 1 - data[sample_ID][head_predicate_idx]['state'][-1]    # state transition\n",
    "                        data[sample_ID][head_predicate_idx]['state'].append(cur_state)      # append the new state\n",
    "                    # else (reject): continue\n",
    "\n",
    "        return data"
   ]
  },
  {
   "cell_type": "code",
   "execution_count": 38,
   "metadata": {},
   "outputs": [
    {
     "data": {
      "text/plain": [
       "<matplotlib.legend.Legend at 0x2311cad7a20>"
      ]
     },
     "execution_count": 38,
     "metadata": {},
     "output_type": "execute_result"
    },
    {
     "data": {
      "image/png": "[encoded data removed]",
      "text/plain": [
       "<Figure size 1800x400 with 1 Axes>"
      ]
     },
     "metadata": {
      "needs_background": "light"
     },
     "output_type": "display_data"
    }
   ],
   "source": [
    "import scienceplots\n",
    "import matplotlib.pyplot as plt\n",
    "plt.style.use(['science','grid','no-latex'])\n",
    "\n",
    "\n",
    "gen = Logic_Model_Generator()\n",
    "data = gen.generate_data(num_sample=1,time_horizon=10)\n",
    "A = data[0][0]\n",
    "I = data[0][1]\n",
    "R = data[0][2]\n",
    "\n",
    "\n",
    "plt.figure(figsize=(9,2),dpi=200)\n",
    "plt.scatter(A['time'][1:], 0*np.ones(shape=(len(A['time'])-1,)),s=10,label='A')\n",
    "plt.scatter(I['time'][1:], np.ones(shape=(len(I['time'])-1,)),s=10,label='I')\n",
    "plt.scatter(R['time'][1:], 2*np.ones(shape=(len(R['time'])-1,)),s=10,label='R')\n",
    "plt.yticks([0,1,2]);\n",
    "plt.xlabel('$t$'); plt.ylabel('index'); plt.legend(title='type')"
   ]
  },
  {
   "cell_type": "code",
   "execution_count": 91,
   "metadata": {},
   "outputs": [],
   "source": [
    "import numpy as np\n",
    "import itertools\n",
    "import torch.nn as nn\n",
    "from torch.autograd import Variable\n",
    "import torch\n",
    "import torch.optim as optim\n",
    "import matplotlib.pyplot as plt\n",
    "##################################################################\n",
    "\n",
    "class Logic_Model(nn.Module):\n",
    "\n",
    "    # for example, consider three rules:\n",
    "    # A and B and Equal(A,B), and Before(A, D), then D;\n",
    "    # C and Before(C, Not D), then  Not D\n",
    "    # D Then  E, and Equal(D, E)\n",
    "    # note that define the temporal predicates as compact as possible\n",
    "\n",
    "    def __init__(self):\n",
    "\n",
    "        '''\n",
    "    We have\n",
    "        1. 3 predicates: A(t), I(t), R(t)\n",
    "        2. 3 rules\n",
    "    '''\n",
    "\n",
    "\n",
    "    # for example, consider three rules:\n",
    "    # A and B and Equal(A,B), and Before(A, D), then D;\n",
    "    # C and Before(C,Not D), then Not D\n",
    "    # D Then E, and Equal(D, E)\n",
    "    # note that define the temporal predicates as compact as possible\n",
    "\n",
    "    def __init__(self):\n",
    "\n",
    "        ### the following parameters are used to manually define the logic rules\n",
    "        self.num_predicate = 3                  # num_predicate is same as num_node\n",
    "        self.num_formula = 3                    # num of prespecified logic rules\n",
    "        self.BEFORE = 'BEFORE'\n",
    "        self.EQUAL = 'EQUAL'\n",
    "        self.AFTER = 'AFTER'\n",
    "        self.Time_tolerance = 0.3               \n",
    "        self.body_predicate_set = []                        # the index set of all body predicates\n",
    "        self.mental_predicate_set = []\n",
    "        self.action_predicate_set = [0, 1, 2]\n",
    "        self.head_predicate_set = [0, 1, 2]     # the index set of all head predicates\n",
    "        self.decay_rate = 1                                 # decay kernel\n",
    "        self.integral_resolution = 0.03\n",
    "\n",
    "        ### the following parameters are used to generate synthetic data\n",
    "        ### for the learning part, the following is used to claim variables\n",
    "        ### self.model_parameter = {0:{},1:{},...,6:{}}\n",
    "        self.model_parameter = {}\n",
    "\n",
    "\n",
    "        head_predicate_idx = 0\n",
    "        self.model_parameter[head_predicate_idx] = {}\n",
    "        self.model_parameter[head_predicate_idx]['base'] = torch.autograd.Variable((-torch.rand(size=(1,))).double(), requires_grad=True)\n",
    "\n",
    "        formula_idx = 0\n",
    "        self.model_parameter[head_predicate_idx][formula_idx] = {}\n",
    "        self.model_parameter[head_predicate_idx][formula_idx]['weight'] = torch.autograd.Variable((torch.rand(size=(1,))).double(), requires_grad=True)\n",
    "\n",
    "\n",
    "        head_predicate_idx = 1\n",
    "        self.model_parameter[head_predicate_idx] = {}\n",
    "        self.model_parameter[head_predicate_idx]['base'] = torch.autograd.Variable((-torch.rand(size=(1,))).double(), requires_grad=True)\n",
    "\n",
    "        formula_idx = 0\n",
    "        self.model_parameter[head_predicate_idx][formula_idx] = {}\n",
    "        self.model_parameter[head_predicate_idx][formula_idx]['weight'] = torch.autograd.Variable((torch.rand(size=(1,))).double(), requires_grad=True)\n",
    "\n",
    "\n",
    "        head_predicate_idx = 2\n",
    "        self.model_parameter[head_predicate_idx] = {}\n",
    "        self.model_parameter[head_predicate_idx]['base'] = torch.autograd.Variable((-torch.rand(size=(1,))).double(), requires_grad=True)\n",
    "\n",
    "        formula_idx = 0\n",
    "        self.model_parameter[head_predicate_idx][formula_idx] = {}\n",
    "        self.model_parameter[head_predicate_idx][formula_idx]['weight'] = torch.autograd.Variable((torch.rand(size=(1,))).double(), requires_grad=True)\n",
    "\n",
    "        \n",
    "        #NOTE: set the content of logic rules\n",
    "        self.logic_template = self.logic_rule()\n",
    "\n",
    "    def logic_rule(self):\n",
    "        # encode rule information\n",
    "        '''\n",
    "        This function encodes the content of logic rules\n",
    "        logic_template = {0:{},1:{},2:{}}\n",
    "        '''\n",
    "        logic_template = {}\n",
    "\n",
    "\n",
    "        head_predicate_idx = 0\n",
    "        logic_template[head_predicate_idx] = {} # here 0 is the index of the head predicate; we could have multiple head predicates\n",
    "\n",
    "        #NOTE: rule content: (\\neg i \\to a) and (before(neg i, a))\n",
    "        formula_idx = 0\n",
    "        logic_template[head_predicate_idx][formula_idx] = {}\n",
    "        logic_template[head_predicate_idx][formula_idx]['body_predicate_idx'] = [1]\n",
    "        logic_template[head_predicate_idx][formula_idx]['body_predicate_sign'] = [-1]  # use 1 to indicate True; use -1 to indicate False\n",
    "        logic_template[head_predicate_idx][formula_idx]['head_predicate_sign'] = [0]\n",
    "        logic_template[head_predicate_idx][formula_idx]['temporal_relation_idx'] = [[1, 0]]\n",
    "        logic_template[head_predicate_idx][formula_idx]['temporal_relation_type'] = [self.BEFORE]\n",
    "\n",
    "\n",
    "        head_predicate_idx = 1\n",
    "        logic_template[head_predicate_idx] = {}  # here 1 is the index of the head predicate; we could have multiple head predicates\n",
    "\n",
    "        #NOTE: rule content: (i and \\neg r \\to i') and (before(i,i') and before(\\neg r,i'))\n",
    "        formula_idx = 0\n",
    "        logic_template[head_predicate_idx][formula_idx] = {}\n",
    "        logic_template[head_predicate_idx][formula_idx]['body_predicate_idx'] = [1, 2]\n",
    "        logic_template[head_predicate_idx][formula_idx]['body_predicate_sign'] = [1, -1]\n",
    "        logic_template[head_predicate_idx][formula_idx]['head_predicate_sign'] = [1]\n",
    "        logic_template[head_predicate_idx][formula_idx]['temporal_relation_idx'] = [[1, 1], [2, 1]]\n",
    "        logic_template[head_predicate_idx][formula_idx]['temporal_relation_type'] = [self.BEFORE, self.BEFORE]\n",
    "\n",
    "\n",
    "        head_predicate_idx = 2\n",
    "        logic_template[head_predicate_idx] = {}  # here 2 is the index of the head predicate; we could have multiple head predicates\n",
    "\n",
    "        #NOTE: rule content: (a or i \\to r) and (before(a,r) and before(i,r))\n",
    "        formula_idx = 0\n",
    "        logic_template[head_predicate_idx][formula_idx] = {}\n",
    "        logic_template[head_predicate_idx][formula_idx]['body_predicate_idx'] = [0, 1]\n",
    "        logic_template[head_predicate_idx][formula_idx]['body_predicate_sign'] = [1, 1]\n",
    "        logic_template[head_predicate_idx][formula_idx]['head_predicate_sign'] = [1]\n",
    "        logic_template[head_predicate_idx][formula_idx]['temporal_relation_idx'] = [[0, 2], [1, 2]]\n",
    "        logic_template[head_predicate_idx][formula_idx]['temporal_relation_type'] = [self.BEFORE, self.BEFORE]\n",
    "\n",
    "\n",
    "        return logic_template\n",
    "\n",
    "    def intensity(self, cur_time, head_predicate_idx, history):\n",
    "        feature_formula = []\n",
    "        weight_formula = []\n",
    "        effect_formula = []\n",
    "        #TODO: Check if the head_prediate is a mental predicate\n",
    "        flag = 0\n",
    "\n",
    "        for formula_idx in list(self.logic_template[head_predicate_idx].keys()):\n",
    "            weight_formula.append(self.model_parameter[head_predicate_idx][formula_idx]['weight'])\n",
    "\n",
    "            feature_formula.append(self.get_feature(cur_time=cur_time, head_predicate_idx=head_predicate_idx,\n",
    "                                                    history=history, template=self.logic_template[head_predicate_idx][formula_idx], flag=flag))\n",
    "            effect_formula.append(self.get_formula_effect(cur_time=cur_time, head_predicate_idx=head_predicate_idx,\n",
    "                                                       history=history, template=self.logic_template[head_predicate_idx][formula_idx]))\n",
    "        intensity = torch.exp(torch.cat(weight_formula, dim=0)) * torch.cat(feature_formula, dim=0) * torch.cat(effect_formula, dim=0)\n",
    "        intensity = self.model_parameter[head_predicate_idx]['base'] + torch.sum(intensity)\n",
    "        intensity = torch.exp(intensity)\n",
    "\n",
    "        #print('predicate:',head_predicate_idx, weight_formula)\n",
    "\n",
    "        return intensity\n",
    "\n",
    "    def get_feature(self, cur_time, head_predicate_idx, history, template, flag:int):\n",
    "        #NOTE: flag: 0 or 1, denotes the head_predicate_idx is a mental or an action\n",
    "        #NOTE: 0 for mental and 1 for action\n",
    "        #NOTE: since for mental, we need to go through all the history information\n",
    "        #NOTE: while for action, we only care about the current time information\n",
    "        \n",
    "        transition_time_dic = {}\n",
    "        feature = torch.tensor([0], dtype=torch.float64)\n",
    "        for idx, body_predicate_idx in enumerate(template['body_predicate_idx']):\n",
    "            transition_time = np.array(history[body_predicate_idx]['time'])\n",
    "            transition_state = np.array(history[body_predicate_idx]['state'])\n",
    "            mask = (transition_time <= cur_time) * (transition_state == template['body_predicate_sign'][idx])\n",
    "            transition_time_dic[body_predicate_idx] = transition_time[mask]\n",
    "        transition_time_dic[head_predicate_idx] = [cur_time]\n",
    "        ### get weights\n",
    "        # compute features whenever any item of the transition_item_dic is nonempty\n",
    "        history_transition_len = [len(i) for i in transition_time_dic.values()]\n",
    "        if min(history_transition_len) > 0:\n",
    "            # need to compute feature using logic rules\n",
    "            time_combination = np.array(list(itertools.product(*transition_time_dic.values())))\n",
    "            time_combination_dic = {}\n",
    "            for i, idx in enumerate(list(transition_time_dic.keys())):\n",
    "                #TODO: this is where we distinguish mental and action\n",
    "                time_combination_dic[idx] = time_combination[:, i] if flag == 0 else time_combination[-1, i]\n",
    "            temporal_kernel = np.ones(len(time_combination))\n",
    "            for idx, temporal_relation_idx in enumerate(template['temporal_relation_idx']):       \n",
    "                #TODO: checkpoint\n",
    "                #print('head_predicate_idx: {}; temporal_relation_idx[0]: {}, temporal_relation_idx[1]: {}'.format(head_predicate_idx, temporal_relation_idx[0], temporal_relation_idx[1]))\n",
    "                #print('temporal combination dict: {}'.format(time_combination_dic))\n",
    "         \n",
    "                time_difference = time_combination_dic[temporal_relation_idx[0]] - time_combination_dic[temporal_relation_idx[1]]\n",
    "                if template['temporal_relation_type'][idx] == 'BEFORE':\n",
    "                    temporal_kernel *= (time_difference < - self.Time_tolerance) * np.exp(-self.decay_rate *(cur_time - time_combination_dic[temporal_relation_idx[0]]))\n",
    "                if template['temporal_relation_type'][idx] == 'EQUAL':\n",
    "                    temporal_kernel *= (abs(time_difference) <= self.Time_tolerance) * np.exp(-self.decay_rate*(cur_time - time_combination_dic[temporal_relation_idx[0]]))\n",
    "                if template['temporal_relation_type'][idx] == 'AFTER':\n",
    "                    temporal_kernel *= (time_difference > self.Time_tolerance) * np.exp(-self.decay_rate*(cur_time - time_combination_dic[temporal_relation_idx[1]]))\n",
    "            feature = torch.tensor([np.sum(temporal_kernel)], dtype=torch.float64)\n",
    "        return feature\n",
    "\n",
    "    def get_formula_effect(self, cur_time, head_predicate_idx, history, template):\n",
    "        ## Note this part is very important!! For generator, this should be np.sum(cur_time > head_transition_time) - 1\n",
    "        ## Since at the transition times, choose the intensity function right before the transition time\n",
    "        return torch.tensor([1], dtype=torch.float64)\n",
    "\n",
    "    def log_likelihood(self, dataset, sample_ID_batch, T_max):\n",
    "        '''\n",
    "        This function calculates the log-likehood given the dataset\n",
    "        log-likelihood = \\sum log(intensity(transition_time)) + int_0^T intensity dt\n",
    "\n",
    "        Parameters:\n",
    "            dataset: \n",
    "            sample_ID_batch: list\n",
    "            T_max:\n",
    "        '''\n",
    "        log_likelihood = torch.tensor([0], dtype=torch.float64)\n",
    "        # iterate over samples\n",
    "        for sample_ID in sample_ID_batch:\n",
    "            # iterate over head predicates; each predicate corresponds to one intensity\n",
    "            data_sample = dataset[sample_ID]\n",
    "            for head_predicate_idx in self.head_predicate_set:\n",
    "                #NOTE: compute the summation of log intensities at the transition times\n",
    "                intensity_log_sum = self.intensity_log_sum(head_predicate_idx, data_sample)\n",
    "                #NOTE: compute the integration of intensity function over the time horizon\n",
    "                intensity_integral = self.intensity_integral(head_predicate_idx, data_sample, T_max)\n",
    "                log_likelihood += (intensity_log_sum - intensity_integral)\n",
    "        return log_likelihood\n",
    "\n",
    "    def intensity_log_sum(self, head_predicate_idx, data_sample):\n",
    "        intensity_transition = []\n",
    "        for t in data_sample[head_predicate_idx]['time'][1:]:\n",
    "            #NOTE: compute the intensity at transition times\n",
    "            cur_intensity:torch.tensor = self.intensity(t, head_predicate_idx, data_sample)\n",
    "            intensity_transition.append(cur_intensity)\n",
    "        if len(intensity_transition) == 0: # only survival term, no event happens\n",
    "            log_sum = torch.tensor([0], dtype=torch.float64)\n",
    "        else:\n",
    "            log_sum = torch.sum(torch.log(torch.cat(intensity_transition, dim=0)))\n",
    "        return log_sum\n",
    "\n",
    "    def intensity_integral(self, head_predicate_idx, data_sample, T_max):\n",
    "        start_time = 0\n",
    "        end_time = T_max\n",
    "        intensity_grid = []\n",
    "        for t in np.arange(start_time, end_time, self.integral_resolution):\n",
    "            #NOTE: evaluate the intensity values at the chosen time points\n",
    "            cur_intensity:torch.Tensor = self.intensity(t, head_predicate_idx, data_sample)\n",
    "            intensity_grid.append(cur_intensity)\n",
    "        #NOTE: approximately calculate the integral\n",
    "        integral = torch.sum(torch.cat(intensity_grid, dim=0) * self.integral_resolution)\n",
    "        return integral\n",
    "\n",
    "    ### the following functions are for optimization\n",
    "    def optimize_log_likelihood(self, dataset, sample_ID_batch, T_max, optimizer):\n",
    "        optimizer.zero_grad()  # set gradient zero at the start of a new mini-batch\n",
    "        #TODO: the loss function is just the -log-likelihood, since minimize the loss is equivalent to maximize the log-likelihood\n",
    "        loss = -self.log_likelihood(dataset, sample_ID_batch, T_max)\n",
    "        loss.backward()\n",
    "        optimizer.step()\n",
    "        return loss"
   ]
  },
  {
   "cell_type": "code",
   "execution_count": 92,
   "metadata": {},
   "outputs": [
    {
     "name": "stdout",
     "output_type": "stream",
     "text": [
      "train on cuda\n",
      "data generated!!!\n"
     ]
    },
    {
     "name": "stderr",
     "output_type": "stream",
     "text": [
      "100%|██████████| 4/4 [00:02<00:00,  1.56it/s]\n",
      "  0%|          | 1/300 [00:02<13:11,  2.65s/it]"
     ]
    },
    {
     "name": "stdout",
     "output_type": "stream",
     "text": [
      "loss is [66.53046855]\n",
      "Model parameter is {0: {'base': tensor([-0.5404], dtype=torch.float64, requires_grad=True), 0: {'weight': tensor([0.5435], dtype=torch.float64, requires_grad=True)}}, 1: {'base': tensor([-0.2027], dtype=torch.float64, requires_grad=True), 0: {'weight': tensor([0.1136], dtype=torch.float64, requires_grad=True)}}, 2: {'base': tensor([-0.8080], dtype=torch.float64, requires_grad=True), 0: {'weight': tensor([0.5433], dtype=torch.float64, requires_grad=True)}}}\n"
     ]
    },
    {
     "name": "stderr",
     "output_type": "stream",
     "text": [
      "100%|██████████| 4/4 [00:02<00:00,  1.66it/s]\n",
      "  1%|          | 2/300 [00:05<12:48,  2.58s/it]"
     ]
    },
    {
     "name": "stdout",
     "output_type": "stream",
     "text": [
      "loss is [66.28647276]\n",
      "Model parameter is {0: {'base': tensor([-0.5549], dtype=torch.float64, requires_grad=True), 0: {'weight': tensor([0.5435], dtype=torch.float64, requires_grad=True)}}, 1: {'base': tensor([-0.2254], dtype=torch.float64, requires_grad=True), 0: {'weight': tensor([0.1136], dtype=torch.float64, requires_grad=True)}}, 2: {'base': tensor([-0.7797], dtype=torch.float64, requires_grad=True), 0: {'weight': tensor([0.5503], dtype=torch.float64, requires_grad=True)}}}\n"
     ]
    },
    {
     "name": "stderr",
     "output_type": "stream",
     "text": [
      "100%|██████████| 4/4 [00:02<00:00,  1.90it/s]\n",
      "  1%|          | 3/300 [00:07<11:53,  2.40s/it]"
     ]
    },
    {
     "name": "stdout",
     "output_type": "stream",
     "text": [
      "loss is [66.07112708]\n",
      "Model parameter is {0: {'base': tensor([-0.5688], dtype=torch.float64, requires_grad=True), 0: {'weight': tensor([0.5435], dtype=torch.float64, requires_grad=True)}}, 1: {'base': tensor([-0.2475], dtype=torch.float64, requires_grad=True), 0: {'weight': tensor([0.1136], dtype=torch.float64, requires_grad=True)}}, 2: {'base': tensor([-0.7521], dtype=torch.float64, requires_grad=True), 0: {'weight': tensor([0.5554], dtype=torch.float64, requires_grad=True)}}}\n"
     ]
    },
    {
     "name": "stderr",
     "output_type": "stream",
     "text": [
      "100%|██████████| 4/4 [00:02<00:00,  1.89it/s]\n",
      "  1%|▏         | 4/300 [00:09<11:25,  2.32s/it]"
     ]
    },
    {
     "name": "stdout",
     "output_type": "stream",
     "text": [
      "loss is [65.88609366]\n",
      "Model parameter is {0: {'base': tensor([-0.5820], dtype=torch.float64, requires_grad=True), 0: {'weight': tensor([0.5435], dtype=torch.float64, requires_grad=True)}}, 1: {'base': tensor([-0.2685], dtype=torch.float64, requires_grad=True), 0: {'weight': tensor([0.1136], dtype=torch.float64, requires_grad=True)}}, 2: {'base': tensor([-0.7251], dtype=torch.float64, requires_grad=True), 0: {'weight': tensor([0.5594], dtype=torch.float64, requires_grad=True)}}}\n"
     ]
    },
    {
     "name": "stderr",
     "output_type": "stream",
     "text": [
      "100%|██████████| 4/4 [00:02<00:00,  1.86it/s]\n",
      "  2%|▏         | 5/300 [00:11<11:11,  2.28s/it]"
     ]
    },
    {
     "name": "stdout",
     "output_type": "stream",
     "text": [
      "loss is [65.7304239]\n",
      "Model parameter is {0: {'base': tensor([-0.5944], dtype=torch.float64, requires_grad=True), 0: {'weight': tensor([0.5435], dtype=torch.float64, requires_grad=True)}}, 1: {'base': tensor([-0.2880], dtype=torch.float64, requires_grad=True), 0: {'weight': tensor([0.1136], dtype=torch.float64, requires_grad=True)}}, 2: {'base': tensor([-0.6990], dtype=torch.float64, requires_grad=True), 0: {'weight': tensor([0.5624], dtype=torch.float64, requires_grad=True)}}}\n"
     ]
    },
    {
     "name": "stderr",
     "output_type": "stream",
     "text": [
      "100%|██████████| 4/4 [00:02<00:00,  1.88it/s]\n",
      "  2%|▏         | 6/300 [00:13<11:01,  2.25s/it]"
     ]
    },
    {
     "name": "stdout",
     "output_type": "stream",
     "text": [
      "loss is [65.60203463]\n",
      "Model parameter is {0: {'base': tensor([-0.6060], dtype=torch.float64, requires_grad=True), 0: {'weight': tensor([0.5435], dtype=torch.float64, requires_grad=True)}}, 1: {'base': tensor([-0.3056], dtype=torch.float64, requires_grad=True), 0: {'weight': tensor([0.1136], dtype=torch.float64, requires_grad=True)}}, 2: {'base': tensor([-0.6738], dtype=torch.float64, requires_grad=True), 0: {'weight': tensor([0.5644], dtype=torch.float64, requires_grad=True)}}}\n"
     ]
    },
    {
     "name": "stderr",
     "output_type": "stream",
     "text": [
      "100%|██████████| 4/4 [00:02<00:00,  1.89it/s]\n",
      "  2%|▏         | 7/300 [00:16<10:54,  2.23s/it]"
     ]
    },
    {
     "name": "stdout",
     "output_type": "stream",
     "text": [
      "loss is [65.49822417]\n",
      "Model parameter is {0: {'base': tensor([-0.6166], dtype=torch.float64, requires_grad=True), 0: {'weight': tensor([0.5435], dtype=torch.float64, requires_grad=True)}}, 1: {'base': tensor([-0.3213], dtype=torch.float64, requires_grad=True), 0: {'weight': tensor([0.1136], dtype=torch.float64, requires_grad=True)}}, 2: {'base': tensor([-0.6497], dtype=torch.float64, requires_grad=True), 0: {'weight': tensor([0.5654], dtype=torch.float64, requires_grad=True)}}}\n"
     ]
    },
    {
     "name": "stderr",
     "output_type": "stream",
     "text": [
      "100%|██████████| 4/4 [00:02<00:00,  1.85it/s]\n",
      "  3%|▎         | 8/300 [00:18<10:52,  2.24s/it]"
     ]
    },
    {
     "name": "stdout",
     "output_type": "stream",
     "text": [
      "loss is [65.41598524]\n",
      "Model parameter is {0: {'base': tensor([-0.6264], dtype=torch.float64, requires_grad=True), 0: {'weight': tensor([0.5435], dtype=torch.float64, requires_grad=True)}}, 1: {'base': tensor([-0.3351], dtype=torch.float64, requires_grad=True), 0: {'weight': tensor([0.1136], dtype=torch.float64, requires_grad=True)}}, 2: {'base': tensor([-0.6268], dtype=torch.float64, requires_grad=True), 0: {'weight': tensor([0.5655], dtype=torch.float64, requires_grad=True)}}}\n"
     ]
    },
    {
     "name": "stderr",
     "output_type": "stream",
     "text": [
      "100%|██████████| 4/4 [00:02<00:00,  1.87it/s]\n",
      "  3%|▎         | 9/300 [00:20<10:47,  2.23s/it]"
     ]
    },
    {
     "name": "stdout",
     "output_type": "stream",
     "text": [
      "loss is [65.35223101]\n",
      "Model parameter is {0: {'base': tensor([-0.6354], dtype=torch.float64, requires_grad=True), 0: {'weight': tensor([0.5435], dtype=torch.float64, requires_grad=True)}}, 1: {'base': tensor([-0.3470], dtype=torch.float64, requires_grad=True), 0: {'weight': tensor([0.1136], dtype=torch.float64, requires_grad=True)}}, 2: {'base': tensor([-0.6052], dtype=torch.float64, requires_grad=True), 0: {'weight': tensor([0.5647], dtype=torch.float64, requires_grad=True)}}}\n"
     ]
    },
    {
     "name": "stderr",
     "output_type": "stream",
     "text": [
      "100%|██████████| 4/4 [00:02<00:00,  1.89it/s]\n",
      "  3%|▎         | 10/300 [00:22<10:41,  2.21s/it]"
     ]
    },
    {
     "name": "stdout",
     "output_type": "stream",
     "text": [
      "loss is [65.30395881]\n",
      "Model parameter is {0: {'base': tensor([-0.6435], dtype=torch.float64, requires_grad=True), 0: {'weight': tensor([0.5435], dtype=torch.float64, requires_grad=True)}}, 1: {'base': tensor([-0.3570], dtype=torch.float64, requires_grad=True), 0: {'weight': tensor([0.1136], dtype=torch.float64, requires_grad=True)}}, 2: {'base': tensor([-0.5850], dtype=torch.float64, requires_grad=True), 0: {'weight': tensor([0.5629], dtype=torch.float64, requires_grad=True)}}}\n"
     ]
    },
    {
     "name": "stderr",
     "output_type": "stream",
     "text": [
      "100%|██████████| 4/4 [00:02<00:00,  1.89it/s]\n",
      "  4%|▎         | 11/300 [00:24<10:36,  2.20s/it]"
     ]
    },
    {
     "name": "stdout",
     "output_type": "stream",
     "text": [
      "loss is [65.26836097]\n",
      "Model parameter is {0: {'base': tensor([-0.6509], dtype=torch.float64, requires_grad=True), 0: {'weight': tensor([0.5435], dtype=torch.float64, requires_grad=True)}}, 1: {'base': tensor([-0.3654], dtype=torch.float64, requires_grad=True), 0: {'weight': tensor([0.1136], dtype=torch.float64, requires_grad=True)}}, 2: {'base': tensor([-0.5662], dtype=torch.float64, requires_grad=True), 0: {'weight': tensor([0.5603], dtype=torch.float64, requires_grad=True)}}}\n"
     ]
    },
    {
     "name": "stderr",
     "output_type": "stream",
     "text": [
      "100%|██████████| 4/4 [00:02<00:00,  1.83it/s]\n",
      "  4%|▍         | 12/300 [00:27<10:41,  2.23s/it]"
     ]
    },
    {
     "name": "stdout",
     "output_type": "stream",
     "text": [
      "loss is [65.24289247]\n",
      "Model parameter is {0: {'base': tensor([-0.6575], dtype=torch.float64, requires_grad=True), 0: {'weight': tensor([0.5435], dtype=torch.float64, requires_grad=True)}}, 1: {'base': tensor([-0.3723], dtype=torch.float64, requires_grad=True), 0: {'weight': tensor([0.1136], dtype=torch.float64, requires_grad=True)}}, 2: {'base': tensor([-0.5489], dtype=torch.float64, requires_grad=True), 0: {'weight': tensor([0.5568], dtype=torch.float64, requires_grad=True)}}}\n"
     ]
    },
    {
     "name": "stderr",
     "output_type": "stream",
     "text": [
      "100%|██████████| 4/4 [00:02<00:00,  1.92it/s]\n",
      "  4%|▍         | 13/300 [00:29<10:33,  2.21s/it]"
     ]
    },
    {
     "name": "stdout",
     "output_type": "stream",
     "text": [
      "loss is [65.22530559]\n",
      "Model parameter is {0: {'base': tensor([-0.6635], dtype=torch.float64, requires_grad=True), 0: {'weight': tensor([0.5435], dtype=torch.float64, requires_grad=True)}}, 1: {'base': tensor([-0.3777], dtype=torch.float64, requires_grad=True), 0: {'weight': tensor([0.1136], dtype=torch.float64, requires_grad=True)}}, 2: {'base': tensor([-0.5331], dtype=torch.float64, requires_grad=True), 0: {'weight': tensor([0.5526], dtype=torch.float64, requires_grad=True)}}}\n"
     ]
    },
    {
     "name": "stderr",
     "output_type": "stream",
     "text": [
      "100%|██████████| 4/4 [00:02<00:00,  1.90it/s]\n",
      "  5%|▍         | 14/300 [00:31<10:29,  2.20s/it]"
     ]
    },
    {
     "name": "stdout",
     "output_type": "stream",
     "text": [
      "loss is [65.21366117]\n",
      "Model parameter is {0: {'base': tensor([-0.6689], dtype=torch.float64, requires_grad=True), 0: {'weight': tensor([0.5435], dtype=torch.float64, requires_grad=True)}}, 1: {'base': tensor([-0.3821], dtype=torch.float64, requires_grad=True), 0: {'weight': tensor([0.1136], dtype=torch.float64, requires_grad=True)}}, 2: {'base': tensor([-0.5187], dtype=torch.float64, requires_grad=True), 0: {'weight': tensor([0.5477], dtype=torch.float64, requires_grad=True)}}}\n"
     ]
    },
    {
     "name": "stderr",
     "output_type": "stream",
     "text": [
      "100%|██████████| 4/4 [00:02<00:00,  1.75it/s]\n",
      "  5%|▌         | 15/300 [00:33<10:41,  2.25s/it]"
     ]
    },
    {
     "name": "stdout",
     "output_type": "stream",
     "text": [
      "loss is [65.20632398]\n",
      "Model parameter is {0: {'base': tensor([-0.6737], dtype=torch.float64, requires_grad=True), 0: {'weight': tensor([0.5435], dtype=torch.float64, requires_grad=True)}}, 1: {'base': tensor([-0.3854], dtype=torch.float64, requires_grad=True), 0: {'weight': tensor([0.1136], dtype=torch.float64, requires_grad=True)}}, 2: {'base': tensor([-0.5058], dtype=torch.float64, requires_grad=True), 0: {'weight': tensor([0.5421], dtype=torch.float64, requires_grad=True)}}}\n"
     ]
    },
    {
     "name": "stderr",
     "output_type": "stream",
     "text": [
      "100%|██████████| 4/4 [00:02<00:00,  1.77it/s]\n",
      "  5%|▌         | 16/300 [00:36<10:46,  2.28s/it]"
     ]
    },
    {
     "name": "stdout",
     "output_type": "stream",
     "text": [
      "loss is [65.20194788]\n",
      "Model parameter is {0: {'base': tensor([-0.6780], dtype=torch.float64, requires_grad=True), 0: {'weight': tensor([0.5435], dtype=torch.float64, requires_grad=True)}}, 1: {'base': tensor([-0.3879], dtype=torch.float64, requires_grad=True), 0: {'weight': tensor([0.1136], dtype=torch.float64, requires_grad=True)}}, 2: {'base': tensor([-0.4943], dtype=torch.float64, requires_grad=True), 0: {'weight': tensor([0.5360], dtype=torch.float64, requires_grad=True)}}}\n"
     ]
    },
    {
     "name": "stderr",
     "output_type": "stream",
     "text": [
      "100%|██████████| 4/4 [00:02<00:00,  1.80it/s]\n",
      "  6%|▌         | 17/300 [00:38<10:45,  2.28s/it]"
     ]
    },
    {
     "name": "stdout",
     "output_type": "stream",
     "text": [
      "loss is [65.19945397]\n",
      "Model parameter is {0: {'base': tensor([-0.6819], dtype=torch.float64, requires_grad=True), 0: {'weight': tensor([0.5435], dtype=torch.float64, requires_grad=True)}}, 1: {'base': tensor([-0.3897], dtype=torch.float64, requires_grad=True), 0: {'weight': tensor([0.1136], dtype=torch.float64, requires_grad=True)}}, 2: {'base': tensor([-0.4841], dtype=torch.float64, requires_grad=True), 0: {'weight': tensor([0.5295], dtype=torch.float64, requires_grad=True)}}}\n"
     ]
    },
    {
     "name": "stderr",
     "output_type": "stream",
     "text": [
      "100%|██████████| 4/4 [00:02<00:00,  1.76it/s]\n",
      "  6%|▌         | 18/300 [00:40<10:46,  2.29s/it]"
     ]
    },
    {
     "name": "stdout",
     "output_type": "stream",
     "text": [
      "loss is [65.19800439]\n",
      "Model parameter is {0: {'base': tensor([-0.6853], dtype=torch.float64, requires_grad=True), 0: {'weight': tensor([0.5435], dtype=torch.float64, requires_grad=True)}}, 1: {'base': tensor([-0.3910], dtype=torch.float64, requires_grad=True), 0: {'weight': tensor([0.1136], dtype=torch.float64, requires_grad=True)}}, 2: {'base': tensor([-0.4751], dtype=torch.float64, requires_grad=True), 0: {'weight': tensor([0.5225], dtype=torch.float64, requires_grad=True)}}}\n"
     ]
    },
    {
     "name": "stderr",
     "output_type": "stream",
     "text": [
      "100%|██████████| 4/4 [00:02<00:00,  1.63it/s]\n",
      "  6%|▋         | 19/300 [00:43<11:01,  2.36s/it]"
     ]
    },
    {
     "name": "stdout",
     "output_type": "stream",
     "text": [
      "loss is [65.19697319]\n",
      "Model parameter is {0: {'base': tensor([-0.6883], dtype=torch.float64, requires_grad=True), 0: {'weight': tensor([0.5435], dtype=torch.float64, requires_grad=True)}}, 1: {'base': tensor([-0.3919], dtype=torch.float64, requires_grad=True), 0: {'weight': tensor([0.1136], dtype=torch.float64, requires_grad=True)}}, 2: {'base': tensor([-0.4674], dtype=torch.float64, requires_grad=True), 0: {'weight': tensor([0.5152], dtype=torch.float64, requires_grad=True)}}}\n"
     ]
    },
    {
     "name": "stderr",
     "output_type": "stream",
     "text": [
      "100%|██████████| 4/4 [00:02<00:00,  1.75it/s]\n",
      "  7%|▋         | 20/300 [00:45<10:58,  2.35s/it]"
     ]
    },
    {
     "name": "stdout",
     "output_type": "stream",
     "text": [
      "loss is [65.19591592]\n",
      "Model parameter is {0: {'base': tensor([-0.6911], dtype=torch.float64, requires_grad=True), 0: {'weight': tensor([0.5435], dtype=torch.float64, requires_grad=True)}}, 1: {'base': tensor([-0.3924], dtype=torch.float64, requires_grad=True), 0: {'weight': tensor([0.1136], dtype=torch.float64, requires_grad=True)}}, 2: {'base': tensor([-0.4607], dtype=torch.float64, requires_grad=True), 0: {'weight': tensor([0.5077], dtype=torch.float64, requires_grad=True)}}}\n"
     ]
    },
    {
     "name": "stderr",
     "output_type": "stream",
     "text": [
      "100%|██████████| 4/4 [00:02<00:00,  1.87it/s]\n",
      "  7%|▋         | 21/300 [00:47<10:45,  2.31s/it]"
     ]
    },
    {
     "name": "stdout",
     "output_type": "stream",
     "text": [
      "loss is [65.19453897]\n",
      "Model parameter is {0: {'base': tensor([-0.6935], dtype=torch.float64, requires_grad=True), 0: {'weight': tensor([0.5435], dtype=torch.float64, requires_grad=True)}}, 1: {'base': tensor([-0.3927], dtype=torch.float64, requires_grad=True), 0: {'weight': tensor([0.1136], dtype=torch.float64, requires_grad=True)}}, 2: {'base': tensor([-0.4550], dtype=torch.float64, requires_grad=True), 0: {'weight': tensor([0.5000], dtype=torch.float64, requires_grad=True)}}}\n"
     ]
    },
    {
     "name": "stderr",
     "output_type": "stream",
     "text": [
      "100%|██████████| 4/4 [00:02<00:00,  1.91it/s]\n",
      "  7%|▋         | 22/300 [00:50<10:33,  2.28s/it]"
     ]
    },
    {
     "name": "stdout",
     "output_type": "stream",
     "text": [
      "loss is [65.19267015]\n",
      "Model parameter is {0: {'base': tensor([-0.6956], dtype=torch.float64, requires_grad=True), 0: {'weight': tensor([0.5435], dtype=torch.float64, requires_grad=True)}}, 1: {'base': tensor([-0.3929], dtype=torch.float64, requires_grad=True), 0: {'weight': tensor([0.1136], dtype=torch.float64, requires_grad=True)}}, 2: {'base': tensor([-0.4501], dtype=torch.float64, requires_grad=True), 0: {'weight': tensor([0.4922], dtype=torch.float64, requires_grad=True)}}}\n"
     ]
    },
    {
     "name": "stderr",
     "output_type": "stream",
     "text": [
      "100%|██████████| 4/4 [00:02<00:00,  2.00it/s]\n",
      "  8%|▊         | 23/300 [00:52<10:15,  2.22s/it]"
     ]
    },
    {
     "name": "stdout",
     "output_type": "stream",
     "text": [
      "loss is [65.19023122]\n",
      "Model parameter is {0: {'base': tensor([-0.6975], dtype=torch.float64, requires_grad=True), 0: {'weight': tensor([0.5435], dtype=torch.float64, requires_grad=True)}}, 1: {'base': tensor([-0.3928], dtype=torch.float64, requires_grad=True), 0: {'weight': tensor([0.1136], dtype=torch.float64, requires_grad=True)}}, 2: {'base': tensor([-0.4461], dtype=torch.float64, requires_grad=True), 0: {'weight': tensor([0.4843], dtype=torch.float64, requires_grad=True)}}}\n"
     ]
    },
    {
     "name": "stderr",
     "output_type": "stream",
     "text": [
      "100%|██████████| 4/4 [00:02<00:00,  1.72it/s]\n",
      "  8%|▊         | 24/300 [00:54<10:25,  2.26s/it]"
     ]
    },
    {
     "name": "stdout",
     "output_type": "stream",
     "text": [
      "loss is [65.18721344]\n",
      "Model parameter is {0: {'base': tensor([-0.6992], dtype=torch.float64, requires_grad=True), 0: {'weight': tensor([0.5435], dtype=torch.float64, requires_grad=True)}}, 1: {'base': tensor([-0.3928], dtype=torch.float64, requires_grad=True), 0: {'weight': tensor([0.1136], dtype=torch.float64, requires_grad=True)}}, 2: {'base': tensor([-0.4427], dtype=torch.float64, requires_grad=True), 0: {'weight': tensor([0.4764], dtype=torch.float64, requires_grad=True)}}}\n"
     ]
    },
    {
     "name": "stderr",
     "output_type": "stream",
     "text": [
      "100%|██████████| 4/4 [00:02<00:00,  1.94it/s]\n",
      "  8%|▊         | 25/300 [00:56<10:11,  2.22s/it]"
     ]
    },
    {
     "name": "stdout",
     "output_type": "stream",
     "text": [
      "loss is [65.18365647]\n",
      "Model parameter is {0: {'base': tensor([-0.7007], dtype=torch.float64, requires_grad=True), 0: {'weight': tensor([0.5435], dtype=torch.float64, requires_grad=True)}}, 1: {'base': tensor([-0.3926], dtype=torch.float64, requires_grad=True), 0: {'weight': tensor([0.1136], dtype=torch.float64, requires_grad=True)}}, 2: {'base': tensor([-0.4398], dtype=torch.float64, requires_grad=True), 0: {'weight': tensor([0.4685], dtype=torch.float64, requires_grad=True)}}}\n"
     ]
    },
    {
     "name": "stderr",
     "output_type": "stream",
     "text": [
      "100%|██████████| 4/4 [00:02<00:00,  1.67it/s]\n",
      "  9%|▊         | 26/300 [00:59<10:32,  2.31s/it]"
     ]
    },
    {
     "name": "stdout",
     "output_type": "stream",
     "text": [
      "loss is [65.17963089]\n",
      "Model parameter is {0: {'base': tensor([-0.7021], dtype=torch.float64, requires_grad=True), 0: {'weight': tensor([0.5435], dtype=torch.float64, requires_grad=True)}}, 1: {'base': tensor([-0.3925], dtype=torch.float64, requires_grad=True), 0: {'weight': tensor([0.1136], dtype=torch.float64, requires_grad=True)}}, 2: {'base': tensor([-0.4375], dtype=torch.float64, requires_grad=True), 0: {'weight': tensor([0.4606], dtype=torch.float64, requires_grad=True)}}}\n"
     ]
    },
    {
     "name": "stderr",
     "output_type": "stream",
     "text": [
      "100%|██████████| 4/4 [00:03<00:00,  1.31it/s]\n",
      "  9%|▉         | 27/300 [01:02<11:42,  2.57s/it]"
     ]
    },
    {
     "name": "stdout",
     "output_type": "stream",
     "text": [
      "loss is [65.17522424]\n",
      "Model parameter is {0: {'base': tensor([-0.7033], dtype=torch.float64, requires_grad=True), 0: {'weight': tensor([0.5435], dtype=torch.float64, requires_grad=True)}}, 1: {'base': tensor([-0.3923], dtype=torch.float64, requires_grad=True), 0: {'weight': tensor([0.1136], dtype=torch.float64, requires_grad=True)}}, 2: {'base': tensor([-0.4357], dtype=torch.float64, requires_grad=True), 0: {'weight': tensor([0.4529], dtype=torch.float64, requires_grad=True)}}}\n"
     ]
    },
    {
     "name": "stderr",
     "output_type": "stream",
     "text": [
      "100%|██████████| 4/4 [00:03<00:00,  1.17it/s]\n",
      "  9%|▉         | 28/300 [01:06<13:06,  2.89s/it]"
     ]
    },
    {
     "name": "stdout",
     "output_type": "stream",
     "text": [
      "loss is [65.17053047]\n",
      "Model parameter is {0: {'base': tensor([-0.7043], dtype=torch.float64, requires_grad=True), 0: {'weight': tensor([0.5435], dtype=torch.float64, requires_grad=True)}}, 1: {'base': tensor([-0.3921], dtype=torch.float64, requires_grad=True), 0: {'weight': tensor([0.1136], dtype=torch.float64, requires_grad=True)}}, 2: {'base': tensor([-0.4341], dtype=torch.float64, requires_grad=True), 0: {'weight': tensor([0.4452], dtype=torch.float64, requires_grad=True)}}}\n"
     ]
    },
    {
     "name": "stderr",
     "output_type": "stream",
     "text": [
      "100%|██████████| 4/4 [00:02<00:00,  1.51it/s]\n",
      " 10%|▉         | 29/300 [01:08<12:57,  2.87s/it]"
     ]
    },
    {
     "name": "stdout",
     "output_type": "stream",
     "text": [
      "loss is [65.1656422]\n",
      "Model parameter is {0: {'base': tensor([-0.7053], dtype=torch.float64, requires_grad=True), 0: {'weight': tensor([0.5435], dtype=torch.float64, requires_grad=True)}}, 1: {'base': tensor([-0.3920], dtype=torch.float64, requires_grad=True), 0: {'weight': tensor([0.1136], dtype=torch.float64, requires_grad=True)}}, 2: {'base': tensor([-0.4329], dtype=torch.float64, requires_grad=True), 0: {'weight': tensor([0.4376], dtype=torch.float64, requires_grad=True)}}}\n"
     ]
    },
    {
     "name": "stderr",
     "output_type": "stream",
     "text": [
      "100%|██████████| 4/4 [00:02<00:00,  1.46it/s]\n",
      " 10%|█         | 30/300 [01:11<12:53,  2.86s/it]"
     ]
    },
    {
     "name": "stdout",
     "output_type": "stream",
     "text": [
      "loss is [65.16064557]\n",
      "Model parameter is {0: {'base': tensor([-0.7061], dtype=torch.float64, requires_grad=True), 0: {'weight': tensor([0.5435], dtype=torch.float64, requires_grad=True)}}, 1: {'base': tensor([-0.3918], dtype=torch.float64, requires_grad=True), 0: {'weight': tensor([0.1136], dtype=torch.float64, requires_grad=True)}}, 2: {'base': tensor([-0.4319], dtype=torch.float64, requires_grad=True), 0: {'weight': tensor([0.4302], dtype=torch.float64, requires_grad=True)}}}\n"
     ]
    },
    {
     "name": "stderr",
     "output_type": "stream",
     "text": [
      "100%|██████████| 4/4 [00:02<00:00,  1.55it/s]\n",
      " 10%|█         | 31/300 [01:14<12:40,  2.83s/it]"
     ]
    },
    {
     "name": "stdout",
     "output_type": "stream",
     "text": [
      "loss is [65.15561704]\n",
      "Model parameter is {0: {'base': tensor([-0.7068], dtype=torch.float64, requires_grad=True), 0: {'weight': tensor([0.5435], dtype=torch.float64, requires_grad=True)}}, 1: {'base': tensor([-0.3917], dtype=torch.float64, requires_grad=True), 0: {'weight': tensor([0.1136], dtype=torch.float64, requires_grad=True)}}, 2: {'base': tensor([-0.4311], dtype=torch.float64, requires_grad=True), 0: {'weight': tensor([0.4230], dtype=torch.float64, requires_grad=True)}}}\n"
     ]
    },
    {
     "name": "stderr",
     "output_type": "stream",
     "text": [
      "100%|██████████| 4/4 [00:02<00:00,  1.76it/s]\n",
      " 11%|█         | 32/300 [01:16<12:00,  2.69s/it]"
     ]
    },
    {
     "name": "stdout",
     "output_type": "stream",
     "text": [
      "loss is [65.15062175]\n",
      "Model parameter is {0: {'base': tensor([-0.7075], dtype=torch.float64, requires_grad=True), 0: {'weight': tensor([0.5435], dtype=torch.float64, requires_grad=True)}}, 1: {'base': tensor([-0.3916], dtype=torch.float64, requires_grad=True), 0: {'weight': tensor([0.1136], dtype=torch.float64, requires_grad=True)}}, 2: {'base': tensor([-0.4305], dtype=torch.float64, requires_grad=True), 0: {'weight': tensor([0.4159], dtype=torch.float64, requires_grad=True)}}}\n"
     ]
    },
    {
     "name": "stderr",
     "output_type": "stream",
     "text": [
      "100%|██████████| 4/4 [00:01<00:00,  2.01it/s]\n",
      " 11%|█         | 33/300 [01:18<11:08,  2.50s/it]"
     ]
    },
    {
     "name": "stdout",
     "output_type": "stream",
     "text": [
      "loss is [65.14571306]\n",
      "Model parameter is {0: {'base': tensor([-0.7081], dtype=torch.float64, requires_grad=True), 0: {'weight': tensor([0.5435], dtype=torch.float64, requires_grad=True)}}, 1: {'base': tensor([-0.3915], dtype=torch.float64, requires_grad=True), 0: {'weight': tensor([0.1136], dtype=torch.float64, requires_grad=True)}}, 2: {'base': tensor([-0.4300], dtype=torch.float64, requires_grad=True), 0: {'weight': tensor([0.4089], dtype=torch.float64, requires_grad=True)}}}\n"
     ]
    },
    {
     "name": "stderr",
     "output_type": "stream",
     "text": [
      "100%|██████████| 4/4 [00:02<00:00,  1.52it/s]\n",
      " 11%|█▏        | 34/300 [01:21<11:20,  2.56s/it]"
     ]
    },
    {
     "name": "stdout",
     "output_type": "stream",
     "text": [
      "loss is [65.14093288]\n",
      "Model parameter is {0: {'base': tensor([-0.7086], dtype=torch.float64, requires_grad=True), 0: {'weight': tensor([0.5435], dtype=torch.float64, requires_grad=True)}}, 1: {'base': tensor([-0.3915], dtype=torch.float64, requires_grad=True), 0: {'weight': tensor([0.1136], dtype=torch.float64, requires_grad=True)}}, 2: {'base': tensor([-0.4296], dtype=torch.float64, requires_grad=True), 0: {'weight': tensor([0.4021], dtype=torch.float64, requires_grad=True)}}}\n"
     ]
    },
    {
     "name": "stderr",
     "output_type": "stream",
     "text": [
      "100%|██████████| 4/4 [00:02<00:00,  1.80it/s]\n",
      " 12%|█▏        | 35/300 [01:23<10:55,  2.47s/it]"
     ]
    },
    {
     "name": "stdout",
     "output_type": "stream",
     "text": [
      "loss is [65.13631251]\n",
      "Model parameter is {0: {'base': tensor([-0.7090], dtype=torch.float64, requires_grad=True), 0: {'weight': tensor([0.5435], dtype=torch.float64, requires_grad=True)}}, 1: {'base': tensor([-0.3914], dtype=torch.float64, requires_grad=True), 0: {'weight': tensor([0.1136], dtype=torch.float64, requires_grad=True)}}, 2: {'base': tensor([-0.4292], dtype=torch.float64, requires_grad=True), 0: {'weight': tensor([0.3955], dtype=torch.float64, requires_grad=True)}}}\n"
     ]
    },
    {
     "name": "stderr",
     "output_type": "stream",
     "text": [
      "100%|██████████| 4/4 [00:02<00:00,  1.83it/s]\n",
      " 12%|█▏        | 36/300 [01:26<10:36,  2.41s/it]"
     ]
    },
    {
     "name": "stdout",
     "output_type": "stream",
     "text": [
      "loss is [65.13187385]\n",
      "Model parameter is {0: {'base': tensor([-0.7094], dtype=torch.float64, requires_grad=True), 0: {'weight': tensor([0.5435], dtype=torch.float64, requires_grad=True)}}, 1: {'base': tensor([-0.3914], dtype=torch.float64, requires_grad=True), 0: {'weight': tensor([0.1136], dtype=torch.float64, requires_grad=True)}}, 2: {'base': tensor([-0.4289], dtype=torch.float64, requires_grad=True), 0: {'weight': tensor([0.3890], dtype=torch.float64, requires_grad=True)}}}\n"
     ]
    },
    {
     "name": "stderr",
     "output_type": "stream",
     "text": [
      "100%|██████████| 4/4 [00:02<00:00,  1.91it/s]\n",
      " 12%|█▏        | 37/300 [01:28<10:13,  2.33s/it]"
     ]
    },
    {
     "name": "stdout",
     "output_type": "stream",
     "text": [
      "loss is [65.1276307]\n",
      "Model parameter is {0: {'base': tensor([-0.7098], dtype=torch.float64, requires_grad=True), 0: {'weight': tensor([0.5435], dtype=torch.float64, requires_grad=True)}}, 1: {'base': tensor([-0.3913], dtype=torch.float64, requires_grad=True), 0: {'weight': tensor([0.1136], dtype=torch.float64, requires_grad=True)}}, 2: {'base': tensor([-0.4287], dtype=torch.float64, requires_grad=True), 0: {'weight': tensor([0.3827], dtype=torch.float64, requires_grad=True)}}}\n"
     ]
    },
    {
     "name": "stderr",
     "output_type": "stream",
     "text": [
      "100%|██████████| 4/4 [00:02<00:00,  1.93it/s]\n",
      " 13%|█▎        | 38/300 [01:30<09:57,  2.28s/it]"
     ]
    },
    {
     "name": "stdout",
     "output_type": "stream",
     "text": [
      "loss is [65.12359008]\n",
      "Model parameter is {0: {'base': tensor([-0.7101], dtype=torch.float64, requires_grad=True), 0: {'weight': tensor([0.5435], dtype=torch.float64, requires_grad=True)}}, 1: {'base': tensor([-0.3913], dtype=torch.float64, requires_grad=True), 0: {'weight': tensor([0.1136], dtype=torch.float64, requires_grad=True)}}, 2: {'base': tensor([-0.4285], dtype=torch.float64, requires_grad=True), 0: {'weight': tensor([0.3766], dtype=torch.float64, requires_grad=True)}}}\n"
     ]
    },
    {
     "name": "stderr",
     "output_type": "stream",
     "text": [
      "100%|██████████| 4/4 [00:02<00:00,  1.66it/s]\n",
      " 13%|█▎        | 39/300 [01:32<10:09,  2.34s/it]"
     ]
    },
    {
     "name": "stdout",
     "output_type": "stream",
     "text": [
      "loss is [65.11975359]\n",
      "Model parameter is {0: {'base': tensor([-0.7104], dtype=torch.float64, requires_grad=True), 0: {'weight': tensor([0.5435], dtype=torch.float64, requires_grad=True)}}, 1: {'base': tensor([-0.3913], dtype=torch.float64, requires_grad=True), 0: {'weight': tensor([0.1136], dtype=torch.float64, requires_grad=True)}}, 2: {'base': tensor([-0.4283], dtype=torch.float64, requires_grad=True), 0: {'weight': tensor([0.3705], dtype=torch.float64, requires_grad=True)}}}\n"
     ]
    },
    {
     "name": "stderr",
     "output_type": "stream",
     "text": [
      "100%|██████████| 4/4 [00:01<00:00,  2.06it/s]\n",
      " 13%|█▎        | 40/300 [01:34<09:40,  2.23s/it]"
     ]
    },
    {
     "name": "stdout",
     "output_type": "stream",
     "text": [
      "loss is [65.11611849]\n",
      "Model parameter is {0: {'base': tensor([-0.7106], dtype=torch.float64, requires_grad=True), 0: {'weight': tensor([0.5435], dtype=torch.float64, requires_grad=True)}}, 1: {'base': tensor([-0.3913], dtype=torch.float64, requires_grad=True), 0: {'weight': tensor([0.1136], dtype=torch.float64, requires_grad=True)}}, 2: {'base': tensor([-0.4281], dtype=torch.float64, requires_grad=True), 0: {'weight': tensor([0.3647], dtype=torch.float64, requires_grad=True)}}}\n"
     ]
    },
    {
     "name": "stderr",
     "output_type": "stream",
     "text": [
      "100%|██████████| 4/4 [00:01<00:00,  2.06it/s]\n",
      " 14%|█▎        | 41/300 [01:36<09:18,  2.16s/it]"
     ]
    },
    {
     "name": "stdout",
     "output_type": "stream",
     "text": [
      "loss is [65.11267886]\n",
      "Model parameter is {0: {'base': tensor([-0.7109], dtype=torch.float64, requires_grad=True), 0: {'weight': tensor([0.5435], dtype=torch.float64, requires_grad=True)}}, 1: {'base': tensor([-0.3913], dtype=torch.float64, requires_grad=True), 0: {'weight': tensor([0.1136], dtype=torch.float64, requires_grad=True)}}, 2: {'base': tensor([-0.4279], dtype=torch.float64, requires_grad=True), 0: {'weight': tensor([0.3589], dtype=torch.float64, requires_grad=True)}}}\n"
     ]
    },
    {
     "name": "stderr",
     "output_type": "stream",
     "text": [
      "100%|██████████| 4/4 [00:01<00:00,  2.02it/s]\n",
      " 14%|█▍        | 42/300 [01:38<09:06,  2.12s/it]"
     ]
    },
    {
     "name": "stdout",
     "output_type": "stream",
     "text": [
      "loss is [65.10942644]\n",
      "Model parameter is {0: {'base': tensor([-0.7111], dtype=torch.float64, requires_grad=True), 0: {'weight': tensor([0.5435], dtype=torch.float64, requires_grad=True)}}, 1: {'base': tensor([-0.3913], dtype=torch.float64, requires_grad=True), 0: {'weight': tensor([0.1136], dtype=torch.float64, requires_grad=True)}}, 2: {'base': tensor([-0.4278], dtype=torch.float64, requires_grad=True), 0: {'weight': tensor([0.3534], dtype=torch.float64, requires_grad=True)}}}\n"
     ]
    },
    {
     "name": "stderr",
     "output_type": "stream",
     "text": [
      "100%|██████████| 4/4 [00:01<00:00,  2.02it/s]\n",
      " 14%|█▍        | 43/300 [01:40<08:57,  2.09s/it]"
     ]
    },
    {
     "name": "stdout",
     "output_type": "stream",
     "text": [
      "loss is [65.10635139]\n",
      "Model parameter is {0: {'base': tensor([-0.7112], dtype=torch.float64, requires_grad=True), 0: {'weight': tensor([0.5435], dtype=torch.float64, requires_grad=True)}}, 1: {'base': tensor([-0.3913], dtype=torch.float64, requires_grad=True), 0: {'weight': tensor([0.1136], dtype=torch.float64, requires_grad=True)}}, 2: {'base': tensor([-0.4276], dtype=torch.float64, requires_grad=True), 0: {'weight': tensor([0.3479], dtype=torch.float64, requires_grad=True)}}}\n"
     ]
    },
    {
     "name": "stderr",
     "output_type": "stream",
     "text": [
      "100%|██████████| 4/4 [00:01<00:00,  2.08it/s]\n",
      " 15%|█▍        | 44/300 [01:42<08:46,  2.06s/it]"
     ]
    },
    {
     "name": "stdout",
     "output_type": "stream",
     "text": [
      "loss is [65.10344298]\n",
      "Model parameter is {0: {'base': tensor([-0.7114], dtype=torch.float64, requires_grad=True), 0: {'weight': tensor([0.5435], dtype=torch.float64, requires_grad=True)}}, 1: {'base': tensor([-0.3913], dtype=torch.float64, requires_grad=True), 0: {'weight': tensor([0.1136], dtype=torch.float64, requires_grad=True)}}, 2: {'base': tensor([-0.4275], dtype=torch.float64, requires_grad=True), 0: {'weight': tensor([0.3426], dtype=torch.float64, requires_grad=True)}}}\n"
     ]
    },
    {
     "name": "stderr",
     "output_type": "stream",
     "text": [
      "100%|██████████| 4/4 [00:01<00:00,  2.03it/s]\n",
      " 15%|█▌        | 45/300 [01:44<08:43,  2.05s/it]"
     ]
    },
    {
     "name": "stdout",
     "output_type": "stream",
     "text": [
      "loss is [65.10069002]\n",
      "Model parameter is {0: {'base': tensor([-0.7115], dtype=torch.float64, requires_grad=True), 0: {'weight': tensor([0.5435], dtype=torch.float64, requires_grad=True)}}, 1: {'base': tensor([-0.3913], dtype=torch.float64, requires_grad=True), 0: {'weight': tensor([0.1136], dtype=torch.float64, requires_grad=True)}}, 2: {'base': tensor([-0.4273], dtype=torch.float64, requires_grad=True), 0: {'weight': tensor([0.3373], dtype=torch.float64, requires_grad=True)}}}\n"
     ]
    },
    {
     "name": "stderr",
     "output_type": "stream",
     "text": [
      "100%|██████████| 4/4 [00:02<00:00,  1.73it/s]\n",
      " 15%|█▌        | 46/300 [01:47<09:06,  2.15s/it]"
     ]
    },
    {
     "name": "stdout",
     "output_type": "stream",
     "text": [
      "loss is [65.09808127]\n",
      "Model parameter is {0: {'base': tensor([-0.7116], dtype=torch.float64, requires_grad=True), 0: {'weight': tensor([0.5435], dtype=torch.float64, requires_grad=True)}}, 1: {'base': tensor([-0.3913], dtype=torch.float64, requires_grad=True), 0: {'weight': tensor([0.1136], dtype=torch.float64, requires_grad=True)}}, 2: {'base': tensor([-0.4272], dtype=torch.float64, requires_grad=True), 0: {'weight': tensor([0.3322], dtype=torch.float64, requires_grad=True)}}}\n"
     ]
    },
    {
     "name": "stderr",
     "output_type": "stream",
     "text": [
      "100%|██████████| 4/4 [00:02<00:00,  1.72it/s]\n",
      " 16%|█▌        | 47/300 [01:49<09:21,  2.22s/it]"
     ]
    },
    {
     "name": "stdout",
     "output_type": "stream",
     "text": [
      "loss is [65.09560574]\n",
      "Model parameter is {0: {'base': tensor([-0.7118], dtype=torch.float64, requires_grad=True), 0: {'weight': tensor([0.5435], dtype=torch.float64, requires_grad=True)}}, 1: {'base': tensor([-0.3913], dtype=torch.float64, requires_grad=True), 0: {'weight': tensor([0.1136], dtype=torch.float64, requires_grad=True)}}, 2: {'base': tensor([-0.4270], dtype=torch.float64, requires_grad=True), 0: {'weight': tensor([0.3273], dtype=torch.float64, requires_grad=True)}}}\n"
     ]
    },
    {
     "name": "stderr",
     "output_type": "stream",
     "text": [
      "100%|██████████| 4/4 [00:02<00:00,  1.46it/s]\n",
      " 16%|█▌        | 48/300 [01:52<10:07,  2.41s/it]"
     ]
    },
    {
     "name": "stdout",
     "output_type": "stream",
     "text": [
      "loss is [65.0932529]\n",
      "Model parameter is {0: {'base': tensor([-0.7119], dtype=torch.float64, requires_grad=True), 0: {'weight': tensor([0.5435], dtype=torch.float64, requires_grad=True)}}, 1: {'base': tensor([-0.3913], dtype=torch.float64, requires_grad=True), 0: {'weight': tensor([0.1136], dtype=torch.float64, requires_grad=True)}}, 2: {'base': tensor([-0.4269], dtype=torch.float64, requires_grad=True), 0: {'weight': tensor([0.3224], dtype=torch.float64, requires_grad=True)}}}\n"
     ]
    },
    {
     "name": "stderr",
     "output_type": "stream",
     "text": [
      "100%|██████████| 4/4 [00:02<00:00,  1.52it/s]\n",
      " 16%|█▋        | 49/300 [01:55<10:29,  2.51s/it]"
     ]
    },
    {
     "name": "stdout",
     "output_type": "stream",
     "text": [
      "loss is [65.09101281]\n",
      "Model parameter is {0: {'base': tensor([-0.7119], dtype=torch.float64, requires_grad=True), 0: {'weight': tensor([0.5435], dtype=torch.float64, requires_grad=True)}}, 1: {'base': tensor([-0.3913], dtype=torch.float64, requires_grad=True), 0: {'weight': tensor([0.1136], dtype=torch.float64, requires_grad=True)}}, 2: {'base': tensor([-0.4267], dtype=torch.float64, requires_grad=True), 0: {'weight': tensor([0.3176], dtype=torch.float64, requires_grad=True)}}}\n"
     ]
    },
    {
     "name": "stderr",
     "output_type": "stream",
     "text": [
      "100%|██████████| 4/4 [00:02<00:00,  1.72it/s]\n",
      " 17%|█▋        | 50/300 [01:57<10:19,  2.48s/it]"
     ]
    },
    {
     "name": "stdout",
     "output_type": "stream",
     "text": [
      "loss is [65.0888762]\n",
      "Model parameter is {0: {'base': tensor([-0.7120], dtype=torch.float64, requires_grad=True), 0: {'weight': tensor([0.5435], dtype=torch.float64, requires_grad=True)}}, 1: {'base': tensor([-0.3913], dtype=torch.float64, requires_grad=True), 0: {'weight': tensor([0.1136], dtype=torch.float64, requires_grad=True)}}, 2: {'base': tensor([-0.4266], dtype=torch.float64, requires_grad=True), 0: {'weight': tensor([0.3130], dtype=torch.float64, requires_grad=True)}}}\n"
     ]
    },
    {
     "name": "stderr",
     "output_type": "stream",
     "text": [
      "100%|██████████| 4/4 [00:02<00:00,  1.80it/s]\n",
      " 17%|█▋        | 51/300 [02:00<10:02,  2.42s/it]"
     ]
    },
    {
     "name": "stdout",
     "output_type": "stream",
     "text": [
      "loss is [65.08683452]\n",
      "Model parameter is {0: {'base': tensor([-0.7121], dtype=torch.float64, requires_grad=True), 0: {'weight': tensor([0.5435], dtype=torch.float64, requires_grad=True)}}, 1: {'base': tensor([-0.3913], dtype=torch.float64, requires_grad=True), 0: {'weight': tensor([0.1136], dtype=torch.float64, requires_grad=True)}}, 2: {'base': tensor([-0.4265], dtype=torch.float64, requires_grad=True), 0: {'weight': tensor([0.3084], dtype=torch.float64, requires_grad=True)}}}\n"
     ]
    },
    {
     "name": "stderr",
     "output_type": "stream",
     "text": [
      "100%|██████████| 4/4 [00:02<00:00,  1.77it/s]\n",
      " 17%|█▋        | 52/300 [02:02<09:53,  2.40s/it]"
     ]
    },
    {
     "name": "stdout",
     "output_type": "stream",
     "text": [
      "loss is [65.08487996]\n",
      "Model parameter is {0: {'base': tensor([-0.7121], dtype=torch.float64, requires_grad=True), 0: {'weight': tensor([0.5435], dtype=torch.float64, requires_grad=True)}}, 1: {'base': tensor([-0.3913], dtype=torch.float64, requires_grad=True), 0: {'weight': tensor([0.1136], dtype=torch.float64, requires_grad=True)}}, 2: {'base': tensor([-0.4263], dtype=torch.float64, requires_grad=True), 0: {'weight': tensor([0.3039], dtype=torch.float64, requires_grad=True)}}}\n"
     ]
    },
    {
     "name": "stderr",
     "output_type": "stream",
     "text": [
      "100%|██████████| 4/4 [00:02<00:00,  1.71it/s]\n",
      " 18%|█▊        | 53/300 [02:04<09:54,  2.41s/it]"
     ]
    },
    {
     "name": "stdout",
     "output_type": "stream",
     "text": [
      "loss is [65.08300545]\n",
      "Model parameter is {0: {'base': tensor([-0.7122], dtype=torch.float64, requires_grad=True), 0: {'weight': tensor([0.5435], dtype=torch.float64, requires_grad=True)}}, 1: {'base': tensor([-0.3913], dtype=torch.float64, requires_grad=True), 0: {'weight': tensor([0.1136], dtype=torch.float64, requires_grad=True)}}, 2: {'base': tensor([-0.4262], dtype=torch.float64, requires_grad=True), 0: {'weight': tensor([0.2995], dtype=torch.float64, requires_grad=True)}}}\n"
     ]
    },
    {
     "name": "stderr",
     "output_type": "stream",
     "text": [
      "100%|██████████| 4/4 [00:02<00:00,  1.68it/s]\n",
      " 18%|█▊        | 54/300 [02:07<09:55,  2.42s/it]"
     ]
    },
    {
     "name": "stdout",
     "output_type": "stream",
     "text": [
      "loss is [65.08120457]\n",
      "Model parameter is {0: {'base': tensor([-0.7122], dtype=torch.float64, requires_grad=True), 0: {'weight': tensor([0.5435], dtype=torch.float64, requires_grad=True)}}, 1: {'base': tensor([-0.3913], dtype=torch.float64, requires_grad=True), 0: {'weight': tensor([0.1136], dtype=torch.float64, requires_grad=True)}}, 2: {'base': tensor([-0.4261], dtype=torch.float64, requires_grad=True), 0: {'weight': tensor([0.2952], dtype=torch.float64, requires_grad=True)}}}\n"
     ]
    },
    {
     "name": "stderr",
     "output_type": "stream",
     "text": [
      "100%|██████████| 4/4 [00:02<00:00,  1.58it/s]\n",
      " 18%|█▊        | 55/300 [02:09<10:06,  2.48s/it]"
     ]
    },
    {
     "name": "stdout",
     "output_type": "stream",
     "text": [
      "loss is [65.07947158]\n",
      "Model parameter is {0: {'base': tensor([-0.7123], dtype=torch.float64, requires_grad=True), 0: {'weight': tensor([0.5435], dtype=torch.float64, requires_grad=True)}}, 1: {'base': tensor([-0.3913], dtype=torch.float64, requires_grad=True), 0: {'weight': tensor([0.1136], dtype=torch.float64, requires_grad=True)}}, 2: {'base': tensor([-0.4259], dtype=torch.float64, requires_grad=True), 0: {'weight': tensor([0.2910], dtype=torch.float64, requires_grad=True)}}}\n"
     ]
    },
    {
     "name": "stderr",
     "output_type": "stream",
     "text": [
      "100%|██████████| 4/4 [00:02<00:00,  1.58it/s]\n",
      " 19%|█▊        | 56/300 [02:12<10:14,  2.52s/it]"
     ]
    },
    {
     "name": "stdout",
     "output_type": "stream",
     "text": [
      "loss is [65.07780132]\n",
      "Model parameter is {0: {'base': tensor([-0.7123], dtype=torch.float64, requires_grad=True), 0: {'weight': tensor([0.5435], dtype=torch.float64, requires_grad=True)}}, 1: {'base': tensor([-0.3913], dtype=torch.float64, requires_grad=True), 0: {'weight': tensor([0.1136], dtype=torch.float64, requires_grad=True)}}, 2: {'base': tensor([-0.4258], dtype=torch.float64, requires_grad=True), 0: {'weight': tensor([0.2869], dtype=torch.float64, requires_grad=True)}}}\n"
     ]
    },
    {
     "name": "stderr",
     "output_type": "stream",
     "text": [
      "100%|██████████| 4/4 [00:02<00:00,  1.61it/s]\n",
      " 19%|█▉        | 57/300 [02:15<10:20,  2.55s/it]"
     ]
    },
    {
     "name": "stdout",
     "output_type": "stream",
     "text": [
      "loss is [65.07618918]\n",
      "Model parameter is {0: {'base': tensor([-0.7123], dtype=torch.float64, requires_grad=True), 0: {'weight': tensor([0.5435], dtype=torch.float64, requires_grad=True)}}, 1: {'base': tensor([-0.3913], dtype=torch.float64, requires_grad=True), 0: {'weight': tensor([0.1136], dtype=torch.float64, requires_grad=True)}}, 2: {'base': tensor([-0.4257], dtype=torch.float64, requires_grad=True), 0: {'weight': tensor([0.2829], dtype=torch.float64, requires_grad=True)}}}\n"
     ]
    },
    {
     "name": "stderr",
     "output_type": "stream",
     "text": [
      "100%|██████████| 4/4 [00:02<00:00,  1.62it/s]\n",
      " 19%|█▉        | 58/300 [02:17<10:18,  2.56s/it]"
     ]
    },
    {
     "name": "stdout",
     "output_type": "stream",
     "text": [
      "loss is [65.07463104]\n",
      "Model parameter is {0: {'base': tensor([-0.7124], dtype=torch.float64, requires_grad=True), 0: {'weight': tensor([0.5435], dtype=torch.float64, requires_grad=True)}}, 1: {'base': tensor([-0.3913], dtype=torch.float64, requires_grad=True), 0: {'weight': tensor([0.1136], dtype=torch.float64, requires_grad=True)}}, 2: {'base': tensor([-0.4256], dtype=torch.float64, requires_grad=True), 0: {'weight': tensor([0.2789], dtype=torch.float64, requires_grad=True)}}}\n"
     ]
    },
    {
     "name": "stderr",
     "output_type": "stream",
     "text": [
      "100%|██████████| 4/4 [00:02<00:00,  1.64it/s]\n",
      " 20%|█▉        | 59/300 [02:20<10:13,  2.54s/it]"
     ]
    },
    {
     "name": "stdout",
     "output_type": "stream",
     "text": [
      "loss is [65.07312322]\n",
      "Model parameter is {0: {'base': tensor([-0.7124], dtype=torch.float64, requires_grad=True), 0: {'weight': tensor([0.5435], dtype=torch.float64, requires_grad=True)}}, 1: {'base': tensor([-0.3913], dtype=torch.float64, requires_grad=True), 0: {'weight': tensor([0.1136], dtype=torch.float64, requires_grad=True)}}, 2: {'base': tensor([-0.4255], dtype=torch.float64, requires_grad=True), 0: {'weight': tensor([0.2750], dtype=torch.float64, requires_grad=True)}}}\n"
     ]
    },
    {
     "name": "stderr",
     "output_type": "stream",
     "text": [
      "100%|██████████| 4/4 [00:02<00:00,  1.61it/s]\n",
      " 20%|██        | 60/300 [02:22<10:13,  2.55s/it]"
     ]
    },
    {
     "name": "stdout",
     "output_type": "stream",
     "text": [
      "loss is [65.07166243]\n",
      "Model parameter is {0: {'base': tensor([-0.7124], dtype=torch.float64, requires_grad=True), 0: {'weight': tensor([0.5435], dtype=torch.float64, requires_grad=True)}}, 1: {'base': tensor([-0.3913], dtype=torch.float64, requires_grad=True), 0: {'weight': tensor([0.1136], dtype=torch.float64, requires_grad=True)}}, 2: {'base': tensor([-0.4253], dtype=torch.float64, requires_grad=True), 0: {'weight': tensor([0.2712], dtype=torch.float64, requires_grad=True)}}}\n"
     ]
    },
    {
     "name": "stderr",
     "output_type": "stream",
     "text": [
      "100%|██████████| 4/4 [00:02<00:00,  1.67it/s]\n",
      " 20%|██        | 61/300 [02:25<10:06,  2.54s/it]"
     ]
    },
    {
     "name": "stdout",
     "output_type": "stream",
     "text": [
      "loss is [65.07024574]\n",
      "Model parameter is {0: {'base': tensor([-0.7124], dtype=torch.float64, requires_grad=True), 0: {'weight': tensor([0.5435], dtype=torch.float64, requires_grad=True)}}, 1: {'base': tensor([-0.3913], dtype=torch.float64, requires_grad=True), 0: {'weight': tensor([0.1136], dtype=torch.float64, requires_grad=True)}}, 2: {'base': tensor([-0.4252], dtype=torch.float64, requires_grad=True), 0: {'weight': tensor([0.2674], dtype=torch.float64, requires_grad=True)}}}\n"
     ]
    },
    {
     "name": "stderr",
     "output_type": "stream",
     "text": [
      "100%|██████████| 4/4 [00:02<00:00,  1.66it/s]\n",
      " 21%|██        | 62/300 [02:27<10:02,  2.53s/it]"
     ]
    },
    {
     "name": "stdout",
     "output_type": "stream",
     "text": [
      "loss is [65.0688705]\n",
      "Model parameter is {0: {'base': tensor([-0.7125], dtype=torch.float64, requires_grad=True), 0: {'weight': tensor([0.5435], dtype=torch.float64, requires_grad=True)}}, 1: {'base': tensor([-0.3913], dtype=torch.float64, requires_grad=True), 0: {'weight': tensor([0.1136], dtype=torch.float64, requires_grad=True)}}, 2: {'base': tensor([-0.4251], dtype=torch.float64, requires_grad=True), 0: {'weight': tensor([0.2638], dtype=torch.float64, requires_grad=True)}}}\n"
     ]
    },
    {
     "name": "stderr",
     "output_type": "stream",
     "text": [
      "100%|██████████| 4/4 [00:02<00:00,  1.47it/s]\n",
      " 21%|██        | 63/300 [02:30<10:21,  2.62s/it]"
     ]
    },
    {
     "name": "stdout",
     "output_type": "stream",
     "text": [
      "loss is [65.06753434]\n",
      "Model parameter is {0: {'base': tensor([-0.7125], dtype=torch.float64, requires_grad=True), 0: {'weight': tensor([0.5435], dtype=torch.float64, requires_grad=True)}}, 1: {'base': tensor([-0.3913], dtype=torch.float64, requires_grad=True), 0: {'weight': tensor([0.1136], dtype=torch.float64, requires_grad=True)}}, 2: {'base': tensor([-0.4250], dtype=torch.float64, requires_grad=True), 0: {'weight': tensor([0.2602], dtype=torch.float64, requires_grad=True)}}}\n"
     ]
    },
    {
     "name": "stderr",
     "output_type": "stream",
     "text": [
      "  0%|          | 0/4 [00:00<?, ?it/s]\n",
      " 21%|██        | 63/300 [02:30<09:27,  2.39s/it]\n"
     ]
    },
    {
     "ename": "KeyboardInterrupt",
     "evalue": "",
     "output_type": "error",
     "traceback": [
      "\u001b[1;31m---------------------------------------------------------------------------\u001b[0m",
      "\u001b[1;31mKeyboardInterrupt\u001b[0m                         Traceback (most recent call last)",
      "\u001b[1;32m<ipython-input-92-068b71b5a640>\u001b[0m in \u001b[0;36m<module>\u001b[1;34m\u001b[0m\n\u001b[0;32m     38\u001b[0m     \u001b[1;32mfor\u001b[0m \u001b[0mbatch_idx\u001b[0m \u001b[1;32min\u001b[0m \u001b[0mtqdm\u001b[0m\u001b[1;33m(\u001b[0m\u001b[0mnp\u001b[0m\u001b[1;33m.\u001b[0m\u001b[0marange\u001b[0m\u001b[1;33m(\u001b[0m\u001b[1;36m0\u001b[0m\u001b[1;33m,\u001b[0m \u001b[0mnum_batch\u001b[0m\u001b[1;33m,\u001b[0m \u001b[1;36m1\u001b[0m\u001b[1;33m)\u001b[0m\u001b[1;33m)\u001b[0m\u001b[1;33m:\u001b[0m\u001b[1;33m\u001b[0m\u001b[1;33m\u001b[0m\u001b[0m\n\u001b[0;32m     39\u001b[0m         \u001b[0mindices\u001b[0m \u001b[1;33m=\u001b[0m \u001b[0mnp\u001b[0m\u001b[1;33m.\u001b[0m\u001b[0marange\u001b[0m\u001b[1;33m(\u001b[0m\u001b[0mbatch_idx\u001b[0m\u001b[1;33m*\u001b[0m\u001b[0mbatch_size\u001b[0m\u001b[1;33m,\u001b[0m \u001b[1;33m(\u001b[0m\u001b[0mbatch_idx\u001b[0m\u001b[1;33m+\u001b[0m\u001b[1;36m1\u001b[0m\u001b[1;33m)\u001b[0m\u001b[1;33m*\u001b[0m\u001b[0mbatch_size\u001b[0m\u001b[1;33m,\u001b[0m \u001b[1;36m1\u001b[0m\u001b[1;33m)\u001b[0m\u001b[1;33m\u001b[0m\u001b[1;33m\u001b[0m\u001b[0m\n\u001b[1;32m---> 40\u001b[1;33m         \u001b[0mloss\u001b[0m \u001b[1;33m=\u001b[0m \u001b[0mlogic_model\u001b[0m\u001b[1;33m.\u001b[0m\u001b[0moptimize_log_likelihood\u001b[0m\u001b[1;33m(\u001b[0m\u001b[0mdata\u001b[0m\u001b[1;33m,\u001b[0m \u001b[0mindices\u001b[0m\u001b[1;33m,\u001b[0m \u001b[0mtime_horizon\u001b[0m\u001b[1;33m,\u001b[0m \u001b[0moptimizer\u001b[0m\u001b[1;33m)\u001b[0m\u001b[1;33m\u001b[0m\u001b[1;33m\u001b[0m\u001b[0m\n\u001b[0m\u001b[0;32m     41\u001b[0m         \u001b[0mlosses\u001b[0m\u001b[1;33m.\u001b[0m\u001b[0mappend\u001b[0m\u001b[1;33m(\u001b[0m\u001b[0mloss\u001b[0m\u001b[1;33m)\u001b[0m\u001b[1;33m\u001b[0m\u001b[1;33m\u001b[0m\u001b[0m\n\u001b[0;32m     42\u001b[0m     \u001b[0mprint\u001b[0m\u001b[1;33m(\u001b[0m\u001b[1;34m'loss is'\u001b[0m\u001b[1;33m,\u001b[0m \u001b[0mloss\u001b[0m\u001b[1;33m.\u001b[0m\u001b[0mdetach\u001b[0m\u001b[1;33m(\u001b[0m\u001b[1;33m)\u001b[0m\u001b[1;33m.\u001b[0m\u001b[0mnumpy\u001b[0m\u001b[1;33m(\u001b[0m\u001b[1;33m)\u001b[0m\u001b[1;33m)\u001b[0m\u001b[1;33m\u001b[0m\u001b[1;33m\u001b[0m\u001b[0m\n",
      "\u001b[1;32m<ipython-input-91-42acb8b3c99d>\u001b[0m in \u001b[0;36moptimize_log_likelihood\u001b[1;34m(self, dataset, sample_ID_batch, T_max, optimizer)\u001b[0m\n\u001b[0;32m    251\u001b[0m         \u001b[0moptimizer\u001b[0m\u001b[1;33m.\u001b[0m\u001b[0mzero_grad\u001b[0m\u001b[1;33m(\u001b[0m\u001b[1;33m)\u001b[0m  \u001b[1;31m# set gradient zero at the start of a new mini-batch\u001b[0m\u001b[1;33m\u001b[0m\u001b[1;33m\u001b[0m\u001b[0m\n\u001b[0;32m    252\u001b[0m         \u001b[1;31m#TODO: the loss function is just the -log-likelihood, since minimize the loss is equivalent to maximize the log-likelihood\u001b[0m\u001b[1;33m\u001b[0m\u001b[1;33m\u001b[0m\u001b[1;33m\u001b[0m\u001b[0m\n\u001b[1;32m--> 253\u001b[1;33m         \u001b[0mloss\u001b[0m \u001b[1;33m=\u001b[0m \u001b[1;33m-\u001b[0m\u001b[0mself\u001b[0m\u001b[1;33m.\u001b[0m\u001b[0mlog_likelihood\u001b[0m\u001b[1;33m(\u001b[0m\u001b[0mdataset\u001b[0m\u001b[1;33m,\u001b[0m \u001b[0msample_ID_batch\u001b[0m\u001b[1;33m,\u001b[0m \u001b[0mT_max\u001b[0m\u001b[1;33m)\u001b[0m\u001b[1;33m\u001b[0m\u001b[1;33m\u001b[0m\u001b[0m\n\u001b[0m\u001b[0;32m    254\u001b[0m         \u001b[0mloss\u001b[0m\u001b[1;33m.\u001b[0m\u001b[0mbackward\u001b[0m\u001b[1;33m(\u001b[0m\u001b[1;33m)\u001b[0m\u001b[1;33m\u001b[0m\u001b[1;33m\u001b[0m\u001b[0m\n\u001b[0;32m    255\u001b[0m         \u001b[0moptimizer\u001b[0m\u001b[1;33m.\u001b[0m\u001b[0mstep\u001b[0m\u001b[1;33m(\u001b[0m\u001b[1;33m)\u001b[0m\u001b[1;33m\u001b[0m\u001b[1;33m\u001b[0m\u001b[0m\n",
      "\u001b[1;32m<ipython-input-91-42acb8b3c99d>\u001b[0m in \u001b[0;36mlog_likelihood\u001b[1;34m(self, dataset, sample_ID_batch, T_max)\u001b[0m\n\u001b[0;32m    219\u001b[0m                 \u001b[0mintensity_log_sum\u001b[0m \u001b[1;33m=\u001b[0m \u001b[0mself\u001b[0m\u001b[1;33m.\u001b[0m\u001b[0mintensity_log_sum\u001b[0m\u001b[1;33m(\u001b[0m\u001b[0mhead_predicate_idx\u001b[0m\u001b[1;33m,\u001b[0m \u001b[0mdata_sample\u001b[0m\u001b[1;33m)\u001b[0m\u001b[1;33m\u001b[0m\u001b[1;33m\u001b[0m\u001b[0m\n\u001b[0;32m    220\u001b[0m                 \u001b[1;31m#NOTE: compute the integration of intensity function over the time horizon\u001b[0m\u001b[1;33m\u001b[0m\u001b[1;33m\u001b[0m\u001b[1;33m\u001b[0m\u001b[0m\n\u001b[1;32m--> 221\u001b[1;33m                 \u001b[0mintensity_integral\u001b[0m \u001b[1;33m=\u001b[0m \u001b[0mself\u001b[0m\u001b[1;33m.\u001b[0m\u001b[0mintensity_integral\u001b[0m\u001b[1;33m(\u001b[0m\u001b[0mhead_predicate_idx\u001b[0m\u001b[1;33m,\u001b[0m \u001b[0mdata_sample\u001b[0m\u001b[1;33m,\u001b[0m \u001b[0mT_max\u001b[0m\u001b[1;33m)\u001b[0m\u001b[1;33m\u001b[0m\u001b[1;33m\u001b[0m\u001b[0m\n\u001b[0m\u001b[0;32m    222\u001b[0m                 \u001b[0mlog_likelihood\u001b[0m \u001b[1;33m+=\u001b[0m \u001b[1;33m(\u001b[0m\u001b[0mintensity_log_sum\u001b[0m \u001b[1;33m-\u001b[0m \u001b[0mintensity_integral\u001b[0m\u001b[1;33m)\u001b[0m\u001b[1;33m\u001b[0m\u001b[1;33m\u001b[0m\u001b[0m\n\u001b[0;32m    223\u001b[0m         \u001b[1;32mreturn\u001b[0m \u001b[0mlog_likelihood\u001b[0m\u001b[1;33m\u001b[0m\u001b[1;33m\u001b[0m\u001b[0m\n",
      "\u001b[1;32m<ipython-input-91-42acb8b3c99d>\u001b[0m in \u001b[0;36mintensity_integral\u001b[1;34m(self, head_predicate_idx, data_sample, T_max)\u001b[0m\n\u001b[0;32m    241\u001b[0m         \u001b[1;32mfor\u001b[0m \u001b[0mt\u001b[0m \u001b[1;32min\u001b[0m \u001b[0mnp\u001b[0m\u001b[1;33m.\u001b[0m\u001b[0marange\u001b[0m\u001b[1;33m(\u001b[0m\u001b[0mstart_time\u001b[0m\u001b[1;33m,\u001b[0m \u001b[0mend_time\u001b[0m\u001b[1;33m,\u001b[0m \u001b[0mself\u001b[0m\u001b[1;33m.\u001b[0m\u001b[0mintegral_resolution\u001b[0m\u001b[1;33m)\u001b[0m\u001b[1;33m:\u001b[0m\u001b[1;33m\u001b[0m\u001b[1;33m\u001b[0m\u001b[0m\n\u001b[0;32m    242\u001b[0m             \u001b[1;31m#NOTE: evaluate the intensity values at the chosen time points\u001b[0m\u001b[1;33m\u001b[0m\u001b[1;33m\u001b[0m\u001b[1;33m\u001b[0m\u001b[0m\n\u001b[1;32m--> 243\u001b[1;33m             \u001b[0mcur_intensity\u001b[0m\u001b[1;33m:\u001b[0m\u001b[0mtorch\u001b[0m\u001b[1;33m.\u001b[0m\u001b[0mTensor\u001b[0m \u001b[1;33m=\u001b[0m \u001b[0mself\u001b[0m\u001b[1;33m.\u001b[0m\u001b[0mintensity\u001b[0m\u001b[1;33m(\u001b[0m\u001b[0mt\u001b[0m\u001b[1;33m,\u001b[0m \u001b[0mhead_predicate_idx\u001b[0m\u001b[1;33m,\u001b[0m \u001b[0mdata_sample\u001b[0m\u001b[1;33m)\u001b[0m\u001b[1;33m\u001b[0m\u001b[1;33m\u001b[0m\u001b[0m\n\u001b[0m\u001b[0;32m    244\u001b[0m             \u001b[0mintensity_grid\u001b[0m\u001b[1;33m.\u001b[0m\u001b[0mappend\u001b[0m\u001b[1;33m(\u001b[0m\u001b[0mcur_intensity\u001b[0m\u001b[1;33m)\u001b[0m\u001b[1;33m\u001b[0m\u001b[1;33m\u001b[0m\u001b[0m\n\u001b[0;32m    245\u001b[0m         \u001b[1;31m#NOTE: approximately calculate the integral\u001b[0m\u001b[1;33m\u001b[0m\u001b[1;33m\u001b[0m\u001b[1;33m\u001b[0m\u001b[0m\n",
      "\u001b[1;32m<ipython-input-91-42acb8b3c99d>\u001b[0m in \u001b[0;36mintensity\u001b[1;34m(self, cur_time, head_predicate_idx, history)\u001b[0m\n\u001b[0;32m    147\u001b[0m             effect_formula.append(self.get_formula_effect(cur_time=cur_time, head_predicate_idx=head_predicate_idx,\n\u001b[0;32m    148\u001b[0m                                                        history=history, template=self.logic_template[head_predicate_idx][formula_idx]))\n\u001b[1;32m--> 149\u001b[1;33m         \u001b[0mintensity\u001b[0m \u001b[1;33m=\u001b[0m \u001b[0mtorch\u001b[0m\u001b[1;33m.\u001b[0m\u001b[0mexp\u001b[0m\u001b[1;33m(\u001b[0m\u001b[0mtorch\u001b[0m\u001b[1;33m.\u001b[0m\u001b[0mcat\u001b[0m\u001b[1;33m(\u001b[0m\u001b[0mweight_formula\u001b[0m\u001b[1;33m,\u001b[0m \u001b[0mdim\u001b[0m\u001b[1;33m=\u001b[0m\u001b[1;36m0\u001b[0m\u001b[1;33m)\u001b[0m\u001b[1;33m)\u001b[0m \u001b[1;33m*\u001b[0m \u001b[0mtorch\u001b[0m\u001b[1;33m.\u001b[0m\u001b[0mcat\u001b[0m\u001b[1;33m(\u001b[0m\u001b[0mfeature_formula\u001b[0m\u001b[1;33m,\u001b[0m \u001b[0mdim\u001b[0m\u001b[1;33m=\u001b[0m\u001b[1;36m0\u001b[0m\u001b[1;33m)\u001b[0m \u001b[1;33m*\u001b[0m \u001b[0mtorch\u001b[0m\u001b[1;33m.\u001b[0m\u001b[0mcat\u001b[0m\u001b[1;33m(\u001b[0m\u001b[0meffect_formula\u001b[0m\u001b[1;33m,\u001b[0m \u001b[0mdim\u001b[0m\u001b[1;33m=\u001b[0m\u001b[1;36m0\u001b[0m\u001b[1;33m)\u001b[0m\u001b[1;33m\u001b[0m\u001b[1;33m\u001b[0m\u001b[0m\n\u001b[0m\u001b[0;32m    150\u001b[0m         \u001b[0mintensity\u001b[0m \u001b[1;33m=\u001b[0m \u001b[0mself\u001b[0m\u001b[1;33m.\u001b[0m\u001b[0mmodel_parameter\u001b[0m\u001b[1;33m[\u001b[0m\u001b[0mhead_predicate_idx\u001b[0m\u001b[1;33m]\u001b[0m\u001b[1;33m[\u001b[0m\u001b[1;34m'base'\u001b[0m\u001b[1;33m]\u001b[0m \u001b[1;33m+\u001b[0m \u001b[0mtorch\u001b[0m\u001b[1;33m.\u001b[0m\u001b[0msum\u001b[0m\u001b[1;33m(\u001b[0m\u001b[0mintensity\u001b[0m\u001b[1;33m)\u001b[0m\u001b[1;33m\u001b[0m\u001b[1;33m\u001b[0m\u001b[0m\n\u001b[0;32m    151\u001b[0m         \u001b[0mintensity\u001b[0m \u001b[1;33m=\u001b[0m \u001b[0mtorch\u001b[0m\u001b[1;33m.\u001b[0m\u001b[0mexp\u001b[0m\u001b[1;33m(\u001b[0m\u001b[0mintensity\u001b[0m\u001b[1;33m)\u001b[0m\u001b[1;33m\u001b[0m\u001b[1;33m\u001b[0m\u001b[0m\n",
      "\u001b[1;31mKeyboardInterrupt\u001b[0m: "
     ]
    }
   ],
   "source": [
    "device = torch.device(\"cuda\" if torch.cuda.is_available() else \"cpu\")\n",
    "print('train on {}'.format(device))\n",
    "\n",
    "import time\n",
    "from tqdm import *\n",
    "\n",
    "#TODO: learn the model with complete data\n",
    "\n",
    "logic_model_generator = Logic_Model_Generator()\n",
    "\n",
    "#NOTE: some parameters\n",
    "num_samples = 100\n",
    "time_horizon = 1\n",
    "batch_size = 25\n",
    "num_batch = num_samples / batch_size\n",
    "num_iter = 300\n",
    "lr = 0.008\n",
    "\n",
    "#TODO: generate data\n",
    "data = logic_model_generator.generate_data(num_sample=num_samples, time_horizon=time_horizon)\n",
    "print('data generated!!!')\n",
    "#data = np.load('data.npy', allow_pickle='TRUE').item()  # load the generated data\n",
    "\n",
    "\n",
    "#TODO: learn the model with complete data\n",
    "logic_model = Logic_Model()\n",
    "losses = []                     #NOTE: store the loss\n",
    "model_parameters = [logic_model.model_parameter[0]['base'],\n",
    "                    logic_model.model_parameter[0][0]['weight'],\n",
    "                    logic_model.model_parameter[1]['base'],\n",
    "                    logic_model.model_parameter[1][0]['weight'],\n",
    "                    logic_model.model_parameter[2]['base'],\n",
    "                    logic_model.model_parameter[2][0]['weight'],\n",
    "                    ]\n",
    "\n",
    "optimizer = optim.Adam(params=model_parameters, lr=lr)\n",
    "for iter in tqdm(range(num_iter)):\n",
    "    for batch_idx in tqdm(np.arange(0, num_batch, 1)):\n",
    "        indices = np.arange(batch_idx*batch_size, (batch_idx+1)*batch_size, 1)\n",
    "        loss = logic_model.optimize_log_likelihood(data, indices, time_horizon, optimizer)\n",
    "        losses.append(loss)\n",
    "    print('loss is', loss.detach().numpy())\n",
    "    print('Model parameter is', logic_model.model_parameter)"
   ]
  },
  {
   "cell_type": "code",
   "execution_count": null,
   "metadata": {},
   "outputs": [
    {
     "data": {
      "text/plain": [
       "[<matplotlib.lines.Line2D at 0x2311d859ef0>]"
      ]
     },
     "execution_count": 70,
     "metadata": {},
     "output_type": "execute_result"
    },
    {
     "data": {
      "image/png": "[encoded data removed]",
      "text/plain": [
       "<Figure size 2250x750 with 1 Axes>"
      ]
     },
     "metadata": {
      "needs_background": "light"
     },
     "output_type": "display_data"
    }
   ],
   "source": [
    "X = np.arange(1,len(losses[0:-1:int(num_samples/batch_size)])+1,1)\n",
    "plt.figure(figsize=(9,3),dpi=250)\n",
    "plt.plot(X, losses[0:-1:int(num_samples/batch_size)])"
   ]
  }
 ],
 "metadata": {
  "kernelspec": {
   "display_name": "Python 3.6.13 ('pytorch')",
   "language": "python",
   "name": "python3"
  },
  "language_info": {
   "codemirror_mode": {
    "name": "ipython",
    "version": 3
   },
   "file_extension": ".py",
   "mimetype": "text/x-python",
   "name": "python",
   "nbconvert_exporter": "python",
   "pygments_lexer": "ipython3",
   "version": "3.6.13"
  },
  "orig_nbformat": 4,
  "vscode": {
   "interpreter": {
    "hash": "271aaf9a14ca8aef692edd0e58d89184235237d981934b751bc9762a3149e378"
   }
  }
 },
 "nbformat": 4,
 "nbformat_minor": 2
}
